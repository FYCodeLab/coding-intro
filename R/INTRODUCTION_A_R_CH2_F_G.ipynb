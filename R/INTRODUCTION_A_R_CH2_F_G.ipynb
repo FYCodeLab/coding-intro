{
  "nbformat": 4,
  "nbformat_minor": 0,
  "metadata": {
    "colab": {
      "provenance": [],
      "collapsed_sections": [
        "U4rJxcll3T-5"
      ],
      "mount_file_id": "1pL0WCoOdztbc9GlVHUs0c73hN4eQnWRD",
      "authorship_tag": "ABX9TyPp6S67VF23IEBvj/BmOFrQ",
      "include_colab_link": true
    },
    "kernelspec": {
      "name": "ir",
      "display_name": "R"
    },
    "language_info": {
      "name": "R"
    }
  },
  "cells": [
    {
      "cell_type": "markdown",
      "metadata": {
        "id": "view-in-github",
        "colab_type": "text"
      },
      "source": [
        "<a href=\"https://colab.research.google.com/github/FYCodeLab/coding-intro/blob/main/R/INTRODUCTION_A_R_CH2_F_G.ipynb\" target=\"_parent\"><img src=\"https://colab.research.google.com/assets/colab-badge.svg\" alt=\"Open In Colab\"/></a>"
      ]
    },
    {
      "cell_type": "markdown",
      "source": [
        "![texte du lien](https://drive.usercontent.google.com/u/0/uc?id=1HoRjuzm12pA4UTtxIz5dTDyIc_HGY4Vq&export=download)\n",
        "*Un module d'enseignement pour ceux qui veulent en savoir un peu plus mais pas trop*\n",
        "\n",
        "![texte du lien](https://drive.usercontent.google.com/u/0/uc?id=1YNY2zod4XDZyKaNynxzRSJQfrvaUIs_S&export=download)\n",
        "\n",
        "Maintenant que vous êtes familiarisés avec les fonctions du langage R on va pouvoir regarder ce qui est vraiment utile dans les langages R et Python: les librairies.\n",
        "\n",
        "### **Un peu de contexte**\n",
        "\n",
        "Une **librairie** (ou **package**) est une boîte à outils remplie de fonctions prêtes à l’emploi qui permettent de réaliser des tâches spécifiques en programmation. On évite ainsi de devoir apprendre à fabriquer les outils soi-même. Les librairies (ou packages) pour R sont écrites par des professionnels (souvent géniaux), et déposés dans une bibliothèque open-source appelée [CRAN](https://cran.r-project.org/) où reposent tous les outils pour R. Ces outils sont gratuits et peuvent être utilisés librement, et très simplement par tous. Grâce aux librairies, même ceux qui ne savent pas programmer peuvent utiliser R !\n",
        "\n",
        "Dans cette page nous verrons comment installer une librairie (c'est très facile), et comment les utiliser. On commencera avec de librairies très simples (et certaines un peu rigolotes), puis on verra les plus utiles.\n",
        "Souvenez-vous : **une librairie peut contenir de nombreuses fonctions**, et il existe des librairies pour **tout** faire, il suffit de les chercher...\n",
        "\n"
      ],
      "metadata": {
        "id": "YA3qkbLWEL6r"
      }
    },
    {
      "cell_type": "markdown",
      "source": [
        "### 👩‍💻 **Installer une librairie**\n",
        "\n",
        "installer une librairie, c'est un peu comme instaler un logiciel sur son ordinateur. C'est même plus facile, car une simple commande permet d'installer la librairie. Il suffit de connaitre le nom officiel de la librairie en question.\n",
        "La commande est la suivante:\n",
        "\n",
        " `install.packages(\"package_name\")`\n",
        "\n",
        "📌*Exemple : Pour un tout premier exemple, nous allons installer une librairie particulière. Cette librairie s'appelle **`dadjokesapi`**. Cette librairie n'a qu'une seule fonction : raconter des histoires drôles. (Oui, toutes les librairies ne sont pas indispensables). Installons la librairie en utilisant la commande `install.packages()` :*\n",
        "\n",
        "```\n",
        "install.packages(\"dadjokeapi\")\n",
        "```\n",
        "\n",
        "Copiez-collez le code pour installer la librairie dans la case code ci-dessous et appuyez sur exécuter [►]. L'installation prendra 30 secondes.\\\n",
        "*Note: Vous devez [vous connecter à votre compte google](https://drive.google.com/file/d/1EwT3xVo3hllaLvBDg2J1A-IyOcZVxnk8/view) pour exécuter du code sur Google Colab.*\n"
      ],
      "metadata": {
        "id": "f8DgeLN0DwfI"
      }
    },
    {
      "cell_type": "code",
      "source": [
        "#Ecrivez votre code pour installer le package \"dadjokeapi\" ci dessous\n",
        "\n",
        "\n",
        "\n",
        "# Une fois votre code écrit, cliquez sur ►"
      ],
      "metadata": {
        "id": "nTDlDPXbqS2c"
      },
      "execution_count": null,
      "outputs": []
    },
    {
      "cell_type": "markdown",
      "source": [
        "Maintenant que la librairie est installée, elle est prête à etre utilisée.\n",
        "La librairie **`dadjokeapi`** est très simple et ne contient qu'une seule fonction. On peut apprendre à utiliser la librairie en allant visiter son mode d'emploi sur le [site du CRAN](https://cran.r-project.org/web/packages/dadjokeapi/index.html) (toutes les librairies sont hébergées sur le site officiel CRAN) ou bien on peut simplement demander à ChatGPT comment utiliser cette librairie.\n",
        "Bon là je vous l'explique: la fonction permettant d'utiliser la librairie **`dadjokesapi`** s'appelle `groan()`\n",
        "En résumé:\n",
        "\n",
        "**Nom de la librairie** : `dadjokeapi`\n",
        "\n",
        "**Nom de la fonction à utiliser** : `groan()`\n",
        "\n",
        "📌*Exemple : Pour écrire ce programme, maintenant que la libraire dadjokesapi est installée dans le système (souvenez-vous de l'étape précédente), il faut*\n",
        "1. *Charger la librairie en mémoire en utilisant la commande `library()`*\n",
        "2. *Utiliser la fameuse fonction `groan()` contenue dans la librairie*\n",
        "\n",
        "```\n",
        "#Je charge la librairie en mémoire\n",
        "library(dadjokeapi)\n",
        "\n",
        "# Je lance la fonction groan()\n",
        "groan()\n",
        "```"
      ],
      "metadata": {
        "id": "nbg7nZTkTsGq"
      }
    },
    {
      "cell_type": "code",
      "source": [
        "# Copiez-collez le code ci dessus ici :\n",
        "\n",
        "\n",
        "\n",
        "# Une fois votre code écrit, cliquez sur ►"
      ],
      "metadata": {
        "id": "A_gkeb6tGldN"
      },
      "execution_count": null,
      "outputs": []
    },
    {
      "cell_type": "markdown",
      "source": [
        "🎯*Normalement, une blague au hasard apparait. En relançant le programme ►, une nouvelle apparaitra.... Très utile ce programme.*"
      ],
      "metadata": {
        "id": "skUPQ048KOY0"
      }
    },
    {
      "cell_type": "markdown",
      "source": [
        "### 👩‍💻 **Le passage d'arguments: exemple avec la librairie cowsay**\n",
        "\n",
        "Les librairies peuvent être très évoluées. Les fonctions apportées par les librairies ouvrent les portes de statistiques avancées, représentations graphiques, analyse en intelligence artificielle, et beaucoup d'autres applications.\n",
        "\n",
        "Voyons un nouvel exemple: la librairie **`cowsay`**. Cette librairie est plus évoluée que la précedente, vous en conviendrez puisqu'il est possible grâce à elle de faire parler des animaux. Vous souvenez vous de la fonction print() ? Grace à **`cowsay`**, `print()` n'a qu'à bien se tenir.\n",
        "\n",
        "Tout d'abord il faut installer la librairie. Vous aurez remarqué que quand on installe une nouvelle librairie, on utilise une fenetre de code seule. C'est normal, car on n'a besoin d'isntaller la librairie qu'une seule fois, et re-installer à chaque fois qu'on exécute le programme serait du temps gâché.\n",
        "\n",
        "📌*Exemple : installons la librairie cowsay en cliquant sur ► ci dessous*\n"
      ],
      "metadata": {
        "id": "fhgYnf_IPN1m"
      }
    },
    {
      "cell_type": "code",
      "source": [
        "# Cette commande installe la librairie \"cowsay\"\n",
        "install.packages(\"cowsay\")\n"
      ],
      "metadata": {
        "colab": {
          "base_uri": "https://localhost:8080/"
        },
        "id": "c4IjyQdqa-rt",
        "outputId": "64988f06-dc79-4297-811f-95a66ae17624"
      },
      "execution_count": 2,
      "outputs": [
        {
          "output_type": "stream",
          "name": "stderr",
          "text": [
            "Installing package into ‘/usr/local/lib/R/site-library’\n",
            "(as ‘lib’ is unspecified)\n",
            "\n"
          ]
        }
      ]
    },
    {
      "cell_type": "markdown",
      "source": [
        "D'après son mode d'emploi sur [CRAN]((https://cran.r-project.org/web/packages/cowsay/index.html)), la librairie **`cowsay`** contient la fonction **say()**.\n",
        "\n",
        "La fonction **say()** peut contenir des arguments, qu'on peut mettre entre les parenthèses (on appelle cela \"passer un argument\"). La librairie permet de passer un argument texte entre guillemets, et de passer l'argument `by =` qui permet de changer l'animal.\n",
        "\n",
        "En résumé:\n",
        "\n",
        "**Nom de la librairie** : `cowsay`\n",
        "\n",
        "**Nom de la fonction à utiliser** : `say()`\n",
        "\n",
        "**Arguments** : say(\"text\", by = \"animal\")`\n",
        "*   text : texte à afficher\n",
        "*   animal : motif à afficher\n",
        "\n",
        "\n",
        "Exemples :\n",
        "\n",
        "`say(\"Bonjour\")`\n",
        "\n",
        "`say(\"Croa!\", by = \"frog\")`\n",
        "\n",
        "📌 *A vous de jouer. On commence toujours par charger la librairie installée  en utilisant la commande `library()`.\n",
        "Voici quelques exemples, à vous de jouer avec en remplacant l'argument cow par `bat`, `dragon`, `turkey`, `alligator`, `duck` ...*\n",
        "\n",
        "```\n",
        "# Chargeons la librairie cowsay\n",
        "library(cowsay)\n",
        "\n",
        "# Utilisons la fonction say() dans sa forme la plus simple, puis changez pour faire apparaitre d'autres animaux.\n",
        "say(\"Bonjour\")\n",
        "```\n"
      ],
      "metadata": {
        "id": "5khdISA3dGVk"
      }
    },
    {
      "cell_type": "code",
      "source": [
        "# Copiez-collez le code situé dans la case grise ci dessous\n",
        "\n",
        "\n",
        "\n",
        "\n",
        "# Puis appuyez sur le bouton d'exécution à gauche"
      ],
      "metadata": {
        "id": "dNyWPG66RgS_"
      },
      "execution_count": null,
      "outputs": []
    },
    {
      "cell_type": "markdown",
      "source": [
        "🎯*Comme vous voyez, l'imagination des professionels qui créent les librairies est sans limite*\n"
      ],
      "metadata": {
        "id": "TbqHaZQ3RsNh"
      }
    },
    {
      "cell_type": "markdown",
      "source": [
        "### 👩‍💻 **Enfin une librairie utile : rentrez**\n",
        "\n",
        "Vous avez maintenant bien compris comment installer une librairie, puis comment la charger pour pouvoir l'utiliser, et enfin comment chaque librairie possède des fonctions.\n",
        "\n",
        "La librairie rentrez est très utile: elle permet de consulter PubMed à l'intérieur d'un programme\n",
        "\n",
        "**Nom de la librairie** : `rentrez`\n",
        "\n",
        "**Nom de la fonction à utiliser** : `entrez_fetch()`\n",
        "\n",
        "**Arguments** : `entrez_fetch(db=\"pubmed\", id=article_id, rettype=\"abstract\")`\n",
        "*   db : cherche dans la base de donnée PubMed\n",
        "*   article_id : Numero PubMed de l'article à chercher\n",
        "*   rettype : affichera l'abstract\n",
        "\n",
        "\n",
        "\n",
        "📌*Exemple : installons la librairie en cliquant sur ►*"
      ],
      "metadata": {
        "id": "7uTzQytWYoAU"
      }
    },
    {
      "cell_type": "code",
      "source": [
        "# Installez la librairie ci dessous en cliquant sur ►:\n",
        "\n",
        "install.packages(\"rentrez\")\n",
        "\n",
        "# Pour exécuter cette instruction, c'est simple il vous suffit de cliquer sur ►"
      ],
      "metadata": {
        "id": "jFLgwmpvZgic"
      },
      "execution_count": null,
      "outputs": []
    },
    {
      "cell_type": "markdown",
      "source": [
        "📌*Recherchons et affichons l'abstract de l'article PubMed 23661087*\n",
        "\n",
        "```\n",
        "# Charger la librairie rentrez\n",
        "\n",
        "library(rentrez)\n",
        "\n",
        "# Utiliser la fonction entrez_fetch pour télécharger l'article 23661087\n",
        "\n",
        "search_results <- entrez_fetch(db=\"pubmed\", id=23661087, rettype=\"abstract\")\n",
        "\n",
        "cat(search_results)\n",
        "```\n"
      ],
      "metadata": {
        "id": "2Dt6bY-EqVBI"
      }
    },
    {
      "cell_type": "code",
      "source": [
        "# Copiez le code ci dessous :\n",
        "\n",
        "\n",
        "\n",
        "# Exécutez le programme en appuyant sur ►"
      ],
      "metadata": {
        "id": "Z4S_acx0rbWJ"
      },
      "execution_count": null,
      "outputs": []
    },
    {
      "cell_type": "markdown",
      "source": [
        "🎯*La librairie `rentrez` a beaucoup d'usages : elle peut aussi télécharger des séquences nucléotidiques, des noms de gènes...."
      ],
      "metadata": {
        "id": "GVK_yvQdZmB6"
      }
    },
    {
      "cell_type": "markdown",
      "source": [
        "\n",
        "###![CHAPITRE 2](https://drive.usercontent.google.com/u/0/uc?id=1xmZ5Y-fDJd2QSaUqDqJzJiwEHo3u__8N&export=download)\n",
        "\n",
        "### **But de l'exercice**\n",
        "Faites dans la fenêtre de code suivante un petit programme qui :\n",
        "\n",
        "*   Charge les librairies **`rentrez`** et **`cowsay`**  [fonction `library()`] . Ces librairies ont déjà été installées quelques paragraphes plus haut !\n",
        "cat(search_results)\n",
        "*   Place l'abstract de l'article 34280074 dans la variable `mon_abstract` [fonction entrez_fetch()]\n",
        "*   Fais afficher le texte par un petit chat  [fonction `print()` avec l'argument `by=\"cat\"`]\n"
      ],
      "metadata": {
        "id": "YvTRAQvDxf4S"
      }
    },
    {
      "cell_type": "code",
      "source": [
        "# Tapez votre programme ci dessous\n",
        "\n",
        "\n",
        "\n",
        "\n",
        "\n",
        "\n",
        "# Testez le  en appuyant sur ►"
      ],
      "metadata": {
        "id": "MJjR0tFT2H5M"
      },
      "execution_count": null,
      "outputs": []
    },
    {
      "cell_type": "markdown",
      "source": [
        "# Réponse\n",
        "Cliquez ci dessous pour la solution"
      ],
      "metadata": {
        "id": "U4rJxcll3T-5"
      }
    },
    {
      "cell_type": "code",
      "source": [
        "# Réponse de l'exercice (cliquez sur ► pour voir le résultat ):\n",
        "\n",
        "# Charger la librairie rentrez et la librairie cowsay\n",
        "library(rentrez)\n",
        "library(cowsay)\n",
        "\n",
        "# Telecharge l'abstract de l'article N°34280074 et le place dans la variable mon_abstract\n",
        "mon_abstract <- entrez_fetch(db=\"pubmed\", id=34280074, rettype=\"abstract\")\n",
        "\n",
        "# Fais dire le contenu de la variable mon_abstract par un chat\n",
        "say(mon_abstract, by=\"cat\")\n"
      ],
      "metadata": {
        "id": "fg0GSFox1ZdZ"
      },
      "execution_count": null,
      "outputs": []
    },
    {
      "cell_type": "markdown",
      "source": [
        "👏 Bravo d'être arrivés jusqu'ici ! Vous pouvez maintenant accéder au [Chapitre 3](https://github.com/FYCodeLab/coding-intro)\n",
        "\n",
        "*(Avant de changer de chapitre prière de remplir le petit formulaire ci dessous, merci)*"
      ],
      "metadata": {
        "id": "CsOTx-8k3o20"
      }
    },
    {
      "cell_type": "markdown",
      "source": [
        "#![CHAPITRE 2](https://drive.usercontent.google.com/u/0/uc?id=1uihk7uq_UByPt1SH84RCrjbtwmtEkTV6&export=download)\n",
        "\n",
        "\n",
        "\n",
        "SVP veuillez répondre au petit sondage ci dessous. Ecrivez dans le tableau rouge puis envoyez en cliquant sur le bouton ►"
      ],
      "metadata": {
        "id": "-pLRQOD5TQ9L"
      }
    },
    {
      "cell_type": "code",
      "source": [
        "# @title Sondage anonyme\n",
        "# @markdown **Petit sondage sur le CHAPITRE 2**\\\n",
        "# @markdown Remplissez les informations ci-dessous et cliquez sur Exécuter ▶ pour envoyer vos réponses.\n",
        "\n",
        "CHAPITRE_COURANT <- \"CHAPITRE_2\"\n",
        "Prenom <- \"Ecrire ici\" # @param {type:\"string\"}\n",
        "Nom <- \"Ecrire ici\" # @param {type:\"string\"}\n",
        "Diplome_actuel = 'Professionnel/Diplômé' # @param [\"Professionnel/Diplômé\", \"Prepa Bac+1-2\", \"Inge Bac+1-3\",  \"Bachelor 1-3\", \"Université L1-L3\", \"Université M1-M2\", \"Doctorant\"]\n",
        "# @markdown **Avez-vous compris ce qu'est une librairie (=package) ? [0=Pas du tout | 10 Parfait]**\n",
        "Q2 <- 5 # @param {type:\"slider\", min:1, max:10, step:1}\n",
        "# @markdown **Vous souvenez-vous du nom des 3 librairies données en exemple  ? [0=Non | 10=Oui]**\n",
        "Q3 <- 5 # @param {type:\"slider\", min:1, max:10, step:1}\n",
        "# @markdown **Avez-vous des commentaires?**\n",
        "commentaire <- \"Ecrire ici\" # @param {type:\"string\"}\n",
        "# @markdown ---\n",
        "# @markdown Cliquez sur Exécuter ▶ pour valider votre sondage. Merci!\n",
        "\n",
        "\n",
        "\n",
        "\n",
        "# Charger les packages nécessaires\n",
        "if (!require(httr)) install.packages(\"httr\", repos = \"http://cran.rstudio.com/\")\n",
        "if (!require(stringr)) install.packages(\"stringr\", repos = \"http://cran.rstudio.com/\")\n",
        "\n",
        "library(httr)\n",
        "library(stringr)\n",
        "\n",
        "# URL du Google Form\n",
        "form_url <- \"https://docs.google.com/forms/u/0/d/e/1FAIpQLScdlddezflctE_VwnY2hIJIbn1xhlBMoGaMqVcyV8IvCpa8Vw/formResponse\"\n",
        "\n",
        "# Correspondance des champs avec ceux du formulaire\n",
        "answers <- list(\n",
        "  \"entry.1649154935\" = CHAPITRE_COURANT,\n",
        "  \"entry.1030536647\" = Prenom,\n",
        "  \"entry.869694598\" = Nom,\n",
        "  \"entry.1554909193\" = as.character(Diplome_actuel),\n",
        "  \"entry.563756531\" = as.character(Q2),\n",
        "  \"entry.1963779262\" = as.character(Q3),\n",
        "  \"entry.1918008284\" = commentaire\n",
        ")\n",
        "\n",
        "# Envoyer les réponses\n",
        "response <- POST(url = form_url, body = answers, encode = \"form\")\n",
        "\n",
        "# Vérifier le statut de la soumission\n",
        "if (status_code(response) == 200) {\n",
        "  print(\"✅ Formulaire soumis avec succès !\")\n",
        "} else {\n",
        "  print(paste(\"❌ Échec de la soumission :\", status_code(response)))\n",
        "}\n"
      ],
      "metadata": {
        "id": "XOvsv4sl9XUS",
        "colab": {
          "base_uri": "https://localhost:8080/"
        },
        "outputId": "ac8aff5f-45ce-43f4-8afc-14497c08cded",
        "cellView": "form"
      },
      "execution_count": null,
      "outputs": [
        {
          "output_type": "stream",
          "name": "stdout",
          "text": [
            "[1] \"✅ Formulaire soumis avec succès !\"\n"
          ]
        }
      ]
    }
  ]
}