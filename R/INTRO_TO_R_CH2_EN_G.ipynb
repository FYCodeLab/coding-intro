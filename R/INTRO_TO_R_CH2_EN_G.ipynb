{
  "nbformat": 4,
  "nbformat_minor": 0,
  "metadata": {
    "colab": {
      "provenance": [],
      "collapsed_sections": [
        "U4rJxcll3T-5"
      ],
      "include_colab_link": true
    },
    "kernelspec": {
      "name": "ir",
      "display_name": "R"
    },
    "language_info": {
      "name": "R"
    }
  },
  "cells": [
    {
      "cell_type": "markdown",
      "metadata": {
        "id": "view-in-github",
        "colab_type": "text"
      },
      "source": [
        "<a href=\"https://colab.research.google.com/github/FYCodeLab/coding-intro/blob/main/R/INTRO_TO_R_CH2_EN_G.ipynb\" target=\"_parent\"><img src=\"https://colab.research.google.com/assets/colab-badge.svg\" alt=\"Open In Colab\"/></a>"
      ]
    },
    {
      "cell_type": "markdown",
      "source": [
        "![link text](https://github.com/FYCodeLab/coding-intro/blob/main/assets/INTRO-Banner-intro-R_en.png?raw=true)\n",
        "*A teaching module for those who want to know a little more, but not too much*\n",
        "\n",
        "![link text](https://github.com/FYCodeLab/coding-intro/blob/main/assets/intro-banner-ch2-en2.png?raw=true)\n",
        "\n",
        "Now that you’re familiar with the functions of R, it’s time to look at what really matters in both R and Python: libraries.\n",
        "\n",
        "### **A Little Background**\n",
        "\n",
        "A **library** (or **package**) is a toolbox full of ready‑to‑use functions that help you accomplish specific programming tasks. This means you don’t have to learn how to build every tool from scratch. Libraries (or packages) for R are written by professionals (often brilliant ones) and deposited in an open‑source repository called [CRAN](https://cran.r-project.org/), where all the R tools reside. These tools are free and can be used by anyone, very simply. Thanks to libraries, even those who can’t code can still use R!\n",
        "\n",
        "On this page, we’ll see how to install a library (it’s super easy) and how to use it. We’ll start with very simple (and even a little silly) libraries, then move on to the really useful ones.\n",
        "Remember: **a library can contain numerous functions**, and there are libraries for just about everything—you just have to know where to look..."
      ],
      "metadata": {
        "id": "YA3qkbLWEL6r"
      }
    },
    {
      "cell_type": "markdown",
      "source": [
        "### 👩‍💻 **Installing a Library**\n",
        "\n",
        "Installing a library is a bit like installing software on your computer. It’s even easier because a single command does the trick. All you need is the official name of the library in question.\n",
        "The command is as follows:\n",
        "\n",
        " `install.packages(\"package_name\")`\n",
        "\n",
        "📌 *Example: For our very first example, we’re going to install a very particular library. This library is called **`dadjokeapi`**. It only has one function: to tell jokes. (Yes, not every library is indispensable.) Let’s install it using the `install.packages()` command:*\n",
        "\n",
        "```\n",
        "install.packages(\"dadjokeapi\")\n",
        "```\n",
        "\n",
        "Copy and paste the code to install the library into the code cell below and click [►] to run it. The installation will take about 30 seconds.\\\n",
        "*Note: You must [log in to your Google account](https://drive.google.com/file/d/1EwT3xVo3hllaLvBDg2J1A-IyOcZVxnk8/view) to run code on Google Colab.*"
      ],
      "metadata": {
        "id": "f8DgeLN0DwfI"
      }
    },
    {
      "cell_type": "code",
      "source": [
        "# Write your code here to install the package \"dadjokeapi\"\n",
        "\n",
        "\n",
        "\n",
        "# Once your code is written, click on [►]"
      ],
      "metadata": {
        "id": "nTDlDPXbqS2c"
      },
      "execution_count": null,
      "outputs": []
    },
    {
      "cell_type": "markdown",
      "source": [
        "Now that the library is installed, it’s ready to be used.\n",
        "The **`dadjokeapi`** library is very simple and contains only one function. You can learn how to use it by checking out its manual on the [CRAN website](https://cran.r-project.org/web/packages/dadjokeapi/index.html) (all libraries are hosted on the official CRAN site), or you can simply ask ChatGPT how to use it.\n",
        "\n",
        "Alright, here’s the scoop: the function that uses the **`dadjokeapi`** library is called `groan()`.\n",
        "In summary:\n",
        "\n",
        "**Library name**: `dadjokeapi`\n",
        "\n",
        "**Function to use**: `groan()`\n",
        "\n",
        "📌 *Example: To write this program—now that the dadjokeapi library is installed (remember the previous step)—you need to:\n",
        "1. *Load the library into memory using the `library()` command*\n",
        "2. *Use the famous `groan()` function provided by the library*\n",
        "\n",
        "```\n",
        "# Load the library into memory\n",
        "library(dadjokeapi)\n",
        "\n",
        "# Run the groan() function\n",
        "groan()\n",
        "```"
      ],
      "metadata": {
        "id": "nbg7nZTkTsGq"
      }
    },
    {
      "cell_type": "code",
      "source": [
        "# Copy and paste the code above here:\n",
        "\n",
        "\n",
        "\n",
        "# Once your code is written, click on the execute button [►] on the left"
      ],
      "metadata": {
        "id": "A_gkeb6tGldN"
      },
      "execution_count": null,
      "outputs": []
    },
    {
      "cell_type": "markdown",
      "source": [
        "🎯 *Normally, a random joke should appear. Run the program again by clicking [►] and a new one will show up... This program is pretty handy.*"
      ],
      "metadata": {
        "id": "skUPQ048KOY0"
      }
    },
    {
      "cell_type": "markdown",
      "source": [
        "### 👩‍💻 **Passing Arguments: An Example with the cowsay Library**\n",
        "\n",
        "Libraries can be very sophisticated. The functions provided by libraries open the doors to advanced statistics, graphics, artificial intelligence analysis, and many other applications.\n",
        "\n",
        "Let’s look at another example: the **`cowsay`** library. This library is more advanced than the previous one—you’ll agree, since it lets you make animals talk. Remember the `print()` function? Thanks to **`cowsay`**, print() better watch its step.\n",
        "\n",
        "First, you need to install the library. You might have noticed that when installing a new library, you use a dedicated code cell. That’s normal because you only need to install a library once, and reinstalling it every time you run the program would be a waste of time.\n",
        "\n",
        "📌 *Example: Let’s install the cowsay library by clicking on [►] below*"
      ],
      "metadata": {
        "id": "fhgYnf_IPN1m"
      }
    },
    {
      "cell_type": "code",
      "source": [
        "# This command installs the cowsay library. Easy!\n",
        "install.packages(\"cowsay\")\n"
      ],
      "metadata": {
        "id": "c4IjyQdqa-rt"
      },
      "execution_count": null,
      "outputs": []
    },
    {
      "cell_type": "markdown",
      "source": [
        "According to its manual on [CRAN](https://cran.r-project.org/web/packages/cowsay/index.html), the **`cowsay`** library contains the **say()** function.\n",
        "\n",
        "The **say()** function can take arguments (that’s what we call “passing an argument”). The library lets you pass a text argument in quotes and also an argument `by =` to change the animal.\n",
        "\n",
        "In summary:\n",
        "\n",
        "**Library name**: `cowsay`\n",
        "\n",
        "**Function to use**: `say()`\n",
        "\n",
        "**Arguments**: `say(\"text\", by = \"animal\")`\n",
        "   * text: the text to display\n",
        "   * animal: the animal to display\n",
        "\n",
        "Examples:\n",
        "\n",
        "`say(\"Hello\")`\n",
        "\n",
        "`say(\"Croa!\", by = \"frog\")`\n",
        "\n",
        "📌 *Your turn! Always start by loading the installed library using the `library()` command.\n",
        "Here are a few examples—feel free to experiment by replacing the animal (for example, try `bat`, `dragon`, `turkey`, `alligator`, `duck`, etc.).*\n",
        "\n"
      ],
      "metadata": {
        "id": "5khdISA3dGVk"
      }
    },
    {
      "cell_type": "code",
      "source": [
        "# Run the code after understanding it:\n",
        "\n",
        "# Load the cowsay library\n",
        "library(cowsay)\n",
        "\n",
        "# Use the say() function in its simplest form, then modify it\n",
        "say(\"Hello\")\n",
        "\n",
        "# Now replace say(\"Hello\") by say(\"Croa!\", by = \"frog\") to make another animal appear.\n",
        "\n",
        "# To execute, click on the execute button on the left"
      ],
      "metadata": {
        "id": "dNyWPG66RgS_"
      },
      "execution_count": null,
      "outputs": []
    },
    {
      "cell_type": "markdown",
      "source": [
        "🎯 *As you can see, the imagination of the professionals who create libraries knows no bounds!*"
      ],
      "metadata": {
        "id": "TbqHaZQ3RsNh"
      }
    },
    {
      "cell_type": "markdown",
      "source": [
        "### 👩‍💻 **Finally, a Useful Library: rentrez**\n",
        "\n",
        "You now fully understand how to install a library, load it for use, and how each library comes with its own functions.\n",
        "\n",
        "The **rentrez** library is very useful: it allows you to query PubMed from within a program.\n",
        "\n",
        "**Library name**: `rentrez`\n",
        "\n",
        "**Function to use**: `entrez_fetch()`\n",
        "\n",
        "**Arguments**: `entrez_fetch(db = \"pubmed\", id = article_id, rettype = \"abstract\")`\n",
        "   * db: search in the PubMed database\n",
        "   * article_id: the PubMed ID of the article to fetch\n",
        "   * rettype: will display the abstract\n",
        "\n",
        "📌 *Example: Let’s install the library by clicking on [►]*"
      ],
      "metadata": {
        "id": "7uTzQytWYoAU"
      }
    },
    {
      "cell_type": "code",
      "source": [
        "# Install the library below by clicking on [►]:\n",
        "\n",
        "install.packages(\"rentrez\")\n",
        "\n",
        "# To run this command, simply click on [►]"
      ],
      "metadata": {
        "id": "jFLgwmpvZgic"
      },
      "execution_count": null,
      "outputs": []
    },
    {
      "cell_type": "markdown",
      "source": [
        "📌 *Let’s search for and display the abstract of the PubMed article 23661087*\n",
        "\n"
      ],
      "metadata": {
        "id": "2Dt6bY-EqVBI"
      }
    },
    {
      "cell_type": "code",
      "source": [
        "# Understand and run the code below:\n",
        "\n",
        "# 1.Load the rentrez library\n",
        "library(rentrez)\n",
        "\n",
        "# 2.Use the entrez_fetch function to download article 23661087\n",
        "search_results <- entrez_fetch(db = \"pubmed\", id = 23661087, rettype = \"abstract\")\n",
        "\n",
        "# 3. Print the content of the abstract stored in the \"search_results\" variable using the cat() function\n",
        "cat(search_results)\n",
        "\n",
        "\n",
        "\n",
        "\n",
        "# Run the program by clicking on [►]"
      ],
      "metadata": {
        "id": "Z4S_acx0rbWJ"
      },
      "execution_count": null,
      "outputs": []
    },
    {
      "cell_type": "markdown",
      "source": [
        "🎯 *The `rentrez` library has many uses: it can also download nucleotide sequences, gene names, and more..."
      ],
      "metadata": {
        "id": "GVK_yvQdZmB6"
      }
    },
    {
      "cell_type": "markdown",
      "source": [
        "###![CHAPTER 2](https://github.com/FYCodeLab/coding-intro/blob/main/assets/intro-exercise-en.png?raw=true)\n",
        "\n",
        "### **Exercise Objective**\n",
        "In the following code cell, create a small program that:\n",
        "\n",
        "*   Loads the libraries **`rentrez`** and **`cowsay`** using the `library()` function. (These libraries have already been installed a few paragraphs above!)\n",
        "*   Stores the abstract of the article 34280074 in the variable `mon_abstract` (using the `entrez_fetch()` function)\n",
        "*   Displays the text as if spoken by a little cat (using the `say()` function with the argument `by = \"cat\"`)\n"
      ],
      "metadata": {
        "id": "YvTRAQvDxf4S"
      }
    },
    {
      "cell_type": "code",
      "source": [
        "# Write your program below\n",
        "\n",
        "\n",
        "\n",
        "\n",
        "\n",
        "\n",
        "# Then test it by clicking on [►]"
      ],
      "metadata": {
        "id": "MJjR0tFT2H5M"
      },
      "execution_count": null,
      "outputs": []
    },
    {
      "cell_type": "markdown",
      "source": [
        "# Answer\n",
        "Click Answer for the solution"
      ],
      "metadata": {
        "id": "U4rJxcll3T-5"
      }
    },
    {
      "cell_type": "code",
      "source": [
        "# Exercise answer (click [►] to see the result):\n",
        "\n",
        "# Load the rentrez and cowsay libraries\n",
        "library(rentrez)\n",
        "library(cowsay)\n",
        "\n",
        "# Download the abstract of article No. 34280074 and store it in the variable mon_abstract\n",
        "mon_abstract <- entrez_fetch(db = \"pubmed\", id = 34280074, rettype = \"abstract\")\n",
        "\n",
        "# Make a cat say the content of mon_abstract\n",
        "say(mon_abstract, by = \"cat\")\n"
      ],
      "metadata": {
        "id": "fg0GSFox1ZdZ"
      },
      "execution_count": null,
      "outputs": []
    },
    {
      "cell_type": "markdown",
      "source": [
        "👏 Congratulations on making it this far! You can now move on to [Chapter 3](https://github.com/FYCodeLab/coding-intro)\n",
        "\n",
        "*(Before switching chapters, please fill out the short survey below. Thank you!)*"
      ],
      "metadata": {
        "id": "CsOTx-8k3o20"
      }
    },
    {
      "cell_type": "markdown",
      "source": [
        "#![CHAPTER 2](https://github.com/FYCodeLab/coding-intro/blob/main/assets/intro-survey-en.png?raw=true)\n",
        "\n",
        "\n",
        "\n",
        "Please answer the short survey below (answers will remain anonymous). Write in the red box then send it by clicking on [►]"
      ],
      "metadata": {
        "id": "-pLRQOD5TQ9L"
      }
    },
    {
      "cell_type": "code",
      "source": [
        "# @title Survey\n",
        "# @markdown **Short Survey on CHAPTER 2**\\\n",
        "# @markdown Fill in the information below and click Run ▶ to submit your responses.\n",
        "\n",
        "CHAPITRE_COURANT <- \"R-CHAPTER_2_EN\"\n",
        "Prenom <- \"Enter here\" # @param {type:\"string\"}\n",
        "Nom <- \"Enter here\" # @param {type:\"string\"}\n",
        "Diplome_actuel = 'Professional/Graduate' # @param [\"Professional/Graduate\", \"Prepa Bac+1-2\", \"Engineering Bac+1-3\", \"Bachelor 1-3\", \"University L1-L3\", \"University M1-M2\", \"Doctoral Student\"]\n",
        "# @markdown **Did you understand what a library (package) is? [0 = Not at all | 10 = Perfect]**\n",
        "Q2 <- 5 # @param {type:\"slider\", min:1, max:10, step:1}\n",
        "# @markdown **Do you remember the names of the 3 libraries given as examples? [0 = No | 10 = Yes]**\n",
        "Q3 <- 5 # @param {type:\"slider\", min:1, max:10, step:1}\n",
        "# @markdown **Any comments?**\n",
        "commentaire <- \"Enter here\" # @param {type:\"string\"}\n",
        "# @markdown ---\n",
        "# @markdown Click Run ▶ to submit your survey. Thank you!\n",
        "\n",
        "\n",
        "\n",
        "\n",
        "# Load the necessary packages\n",
        "if (!require(httr)) install.packages(\"httr\", repos = \"http://cran.rstudio.com/\")\n",
        "if (!require(stringr)) install.packages(\"stringr\", repos = \"http://cran.rstudio.com/\")\n",
        "\n",
        "library(httr)\n",
        "library(stringr)\n",
        "\n",
        "# URL of the Google Form\n",
        "form_url <- \"https://docs.google.com/forms/u/0/d/e/1FAIpQLScdlddezflctE_VwnY2hIJIbn1xhlBMoGaMqVcyV8IvCpa8Vw/formResponse\"\n",
        "\n",
        "# Map the fields to those in the form\n",
        "answers <- list(\n",
        "  \"entry.1649154935\" = CHAPITRE_COURANT,\n",
        "  \"entry.1030536647\" = Prenom,\n",
        "  \"entry.869694598\" = Nom,\n",
        "  \"entry.1554909193\" = as.character(Diplome_actuel),\n",
        "  \"entry.563756531\" = as.character(Q2),\n",
        "  \"entry.1963779262\" = as.character(Q3),\n",
        "  \"entry.1918008284\" = commentaire\n",
        ")\n",
        "\n",
        "# Send the responses\n",
        "response <- POST(url = form_url, body = answers, encode = \"form\")\n",
        "\n",
        "# Check the submission status\n",
        "if (status_code(response) == 200) {\n",
        "  print(\"✅ Form submitted successfully!\")\n",
        "} else {\n",
        "  print(paste(\"❌ Submission failed:\", status_code(response)))\n",
        "}\n"
      ],
      "metadata": {
        "id": "XOvsv4sl9XUS",
        "cellView": "form"
      },
      "execution_count": null,
      "outputs": []
    }
  ]
}