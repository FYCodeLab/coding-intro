{
  "nbformat": 4,
  "nbformat_minor": 0,
  "metadata": {
    "colab": {
      "provenance": [],
      "collapsed_sections": [
        "zxm6_ibgnJ6T"
      ],
      "mount_file_id": "1pL0WCoOdztbc9GlVHUs0c73hN4eQnWRD",
      "authorship_tag": "ABX9TyNv2xvBKyRYkQaWngc7Zk6i",
      "include_colab_link": true
    },
    "kernelspec": {
      "name": "ir",
      "display_name": "R"
    },
    "language_info": {
      "name": "R"
    }
  },
  "cells": [
    {
      "cell_type": "markdown",
      "metadata": {
        "id": "view-in-github",
        "colab_type": "text"
      },
      "source": [
        "<a href=\"https://colab.research.google.com/github/FYCodeLab/coding-intro/blob/main/INTRODUCTION_A_R_CH1.ipynb\" target=\"_parent\"><img src=\"https://colab.research.google.com/assets/colab-badge.svg\" alt=\"Open In Colab\"/></a>"
      ]
    },
    {
      "cell_type": "markdown",
      "source": [
        "![texte du lien](https://drive.usercontent.google.com/u/0/uc?id=1HoRjuzm12pA4UTtxIz5dTDyIc_HGY4Vq&export=download)\n",
        "*Un module d'enseignement pour ceux qui veulent en savoir un peu plus mais pas trop*\n",
        "\n",
        "\n",
        "R est un langage utilisé très largement en recherche. Il est particulièrement adapté aux mathématiques, statistiques, analyse de données car il est puissant et très rapide. En plus, il n'est pas très compliqué à prendre en main.\n",
        "\n",
        "### **Un peu d'histoire**\n",
        "\n",
        "R a été créé par  [Ross Ihaka](https://en.wikipedia.org/wiki/Ross_Ihaka) et [Robert Gentleman](https://en.wikipedia.org/wiki/Robert_Gentleman_(statistician)) comme un langage de programmation destiné à l'enseignement des statistiques introductives. Le projet a débuté en 1993 à l'Université d'Auckland, en Nouvelle-Zélande. Pourquoi le nom R ? C'est simple, R est basé sur un autre langage, appelé [S](https://en.wikipedia.org/wiki/S_(programming_language)) (et non je n'ai pas été rechercher pourquoi celui-là s'appelait S)\n",
        "\n",
        "Ce langage de programmation est maintenant très répandu et a permis à des millions de professionnels, dans le secteur académique et industriel,  d'avoir accès à un langage à la fois simple et puissant en open source.\n",
        "\n",
        "En biologie, [R](https://en.wikipedia.org/wiki/R_(programming_language)) et [Python](https://en.wikipedia.org/wiki/Python_(programming_language)) sont les langages les plus fréquemment utilisés. Nous allons ici voir les commandes principales de R, et vous permettre de jouer un peu avec.  Vous pourrez vous ainsi expérimenter la joie de la programmation.\n",
        "\n",
        "### **Que faire de son code informatique ?**\n",
        "\n",
        "Si vous voulez écrire un document, il y a plusieurs programmes mais il est probable que vous préfériez utiliser le logiciel Word. De la même manière, si vous voulez coder en R, le plus simple serait d'utiliser le logiciel [Rstudio](https://posit.co/download/rstudio-desktop/). C'est un logiciel gratuit et simple à utiliser. On appelle ce type de logiciel un IDE (Integrated Development Environment), ce qui veut juste dire un logiciel ui permet de taper et exécuter du code.\n",
        "Pour ce petit cours introductif, pour des raisons de simplicité, je ne vais pas vous demander d'installer RStudio. Nous allons utiliser un autre logiciel IDE, mais qui est en ligne, qui s'appelle Google Colab.\n",
        "\n",
        "### **C'est quoi Google Colab ?**\n",
        "Je fais cette petite digression car Google Colab est un outil à la fois extrêmement simple mais extrêmement puissant, à disposition gratuitement à tout le monde.\n",
        "[Google Colab](https://medium.com/kainos-applied-innovation/how-google-has-crushed-it-with-colaboratory-5664b5fb5856) a été créé en 2017 et met à disposition de tout le monde un environnement simple dans lequel exéuter du code Python et R. C'est un outil en ligne, donc les calculs ne sont pas exécutés par votre ordinateur, mais par ceux de Google (on appelle ces ordinateurs distants, dans le cloud, des serveurs). Les serveurs mis à disposition gratuitement par Google sont bien plus puissants et rapides, ce qui permet de faire des tâches extrêmement longues et complexes sans avoir à acheter un super-ordinateur.\n",
        "\n",
        "Google Colab est un IDE(=un logiciel d'exécution de code informatique). Il est un peu particulier car il prend la forme d'un **notebook**. Le terme notebook, en informatique, signifie un IDE qui ressemble un peu à une page web plutot qu'à un écran noir de hacker. Cette manière de présenter le code, de manière séquentielle, les cases de code informatique suivies immédiatement de leur résultat, est plus appropriée pour apprendre le code et pour son utilisation scientifique. Les notebooks ont été popularisés en informatique en 2014 grâce au projet [Jupyter](https://en.wikipedia.org/wiki/Project_Jupyter), et Google Colab en est un excellent exemple, et nous l'utiliserons aujourd'hui pour cette introduction.\n",
        "*Note : Google Colab peut comprendre R ou Python, il suffit de choisir le langage approprié dans le menu `Modifier > Paramètres du notebook`*\n",
        "\n",
        "\n",
        "![texte du lien](https://drive.usercontent.google.com/u/0/uc?id=1yXHL7jFgzwpVsZ79hl9VF1JOBeZ0Ks2p&export=download)\n",
        "\n",
        "\n"
      ],
      "metadata": {
        "id": "YA3qkbLWEL6r"
      }
    },
    {
      "cell_type": "markdown",
      "source": [
        "### **Comment utiliser Google Colab pour apprendre à coder ?**\n",
        "\n",
        "C'est très simple, vous pourrez à tout moment utiliser les **fenêtres de code** disposées tout au long de cette leçon. Dans cette **fenêtres de code** vous pourrez copier-coller les exemples donnés, et aussi écrire vos programmes.\n",
        "1. La fenêtre de code est une simple fenêtre de texte dans laquelle vous pouvez écrire votre code informatique.\n",
        "2. Pour exécuter le code, il suffit de cliquer sur la petite flèche **[►]** à gauche de la fenêtre de code.\n",
        "3. Une fois votre code exécuté (cela peut prendre quelques secondes), le résultat de celui-ci sera visible dans la **console**, située sous la fenêtre de code. La **console** vous donnera le résultat de votre code, et vous informera si il y a un problème grâce à un **message d'erreur** (aussi appelé **traceback**).\n",
        "\n",
        "**N'hésitez jamais à modifier le contenu d'une fenêtre de code**, c'est la meilleure manière d'apprendre.\n",
        "\n",
        "![texte du lien](https://drive.usercontent.google.com/u/0/uc?id=1o6G_q-TC-ZiHOg0Rs3mfZeqm8uyXbPX2&export=download)\n",
        "\n",
        "## **Les messages d'erreur (tracebacks)**\n",
        "Tout au long de votre carrière, encore balbutiante, de bioinformaticien.ne, vous rencontrerez beaucoup de messages d'erreurs dans votre console.\n",
        "Un message d'erreur est appelé un **traceback** : il vous indique le type d'erreur et à quelle ligne elle se trouve.\n",
        "\n",
        "Dans ce cas, il faut juste corriger l'erreur et appuyer à nouveau sur exécuter **[►]**, en espérant que cette correction marche. Il ne faut pas s'inquiéter, cette démarche d'essai-erreur est tout à fait normale, ça s'appelle la programmation 🥰\n",
        "\n",
        "![texte du lien](https://drive.usercontent.google.com/u/0/uc?id=1X-JfCodpeNQU7QapGjvm8-fT72KxGFuA&export=download)\n",
        "\n",
        "## **Le dièse `#`**\n",
        "Dans un programme informatique, le code informatique est toujours accompagné de **commentaires**. Ces commentaires aident les programmeurs à comprendre ce que d'autres (ou même eux-même) ont écrit.\n",
        "Ces commentaires qui parsèment le code sont précédés d'un `#`. Tout signe # indique à l'outil de compilation qui exécute votre code d'ignorer ce qui suit le `#`.\n",
        "\n",
        "\n",
        "\n",
        "\n",
        "\n",
        "\n",
        "Maintenant que vous savez lire et utiliser votre fenêtre de code, vous êtes paré.e pour commencer à apprendre les bases du codage !"
      ],
      "metadata": {
        "id": "bxdRC2HcPawo"
      }
    },
    {
      "cell_type": "markdown",
      "source": [
        "#![CHAPITRE 2](https://drive.usercontent.google.com/u/0/uc?id=1wJbK5LHnySVzLT96gY2p5bg6XdIApasR&export=download)\n",
        "\n",
        "Voici quelques fonctions de base pour vous faire la main. Cette page Google Colab est un notebook, donc n'hésitez jamais à modifier les exemples donnés pour en voir le résultat.\n",
        "\n",
        "### 👩‍💻 **print()**\n",
        "\n",
        "La fonction print() affiche ce que vous voulez. C'est la fonction la plus simple (et la plus utile)\n",
        "\n",
        "📌*Exemple : ce programme affiche le texte traditionnel des débutants en programmation*\n",
        "```\n",
        "print(\"Hello, World!\")\n",
        "```\n",
        "\n",
        "Copiez-collez le code ci dessus dans la case grise de codage ci-dessous et appuyez sur le petit bouton [►] à gauche.\n",
        "\n",
        "*NB: Pour exécuter commencer à exécuter le code sur cette page, vous devrez vous logger avec votre compte google. Si vous avez un doute sur le code situé sur cette page, n'hésitez pas à nous écrire.*\n",
        "#![CHAPITRE 2](https://drive.usercontent.google.com/u/0/uc?id=1EwT3xVo3hllaLvBDg2J1A-IyOcZVxnk8&export=download)"
      ],
      "metadata": {
        "id": "f8DgeLN0DwfI"
      }
    },
    {
      "cell_type": "code",
      "source": [
        "# Ceci est une fenêtre de code. Un code contient des commentaires en vert (comme celui-ci),\n",
        "# ce qui est très pratique. Copiez-collez le code ci dessus ici :\n",
        "\n",
        "\n",
        "\n",
        "\n",
        "# Une fois le code entré ci dessus, cliquez sur le bouton rond EXECUTER [►] à gauche pour l'exécuter.\n",
        "# Le résultat apparaitra sous cette case"
      ],
      "metadata": {
        "id": "A_gkeb6tGldN"
      },
      "execution_count": null,
      "outputs": []
    },
    {
      "cell_type": "markdown",
      "source": [
        "🎯*Normalement, si vous avez suivi les instructions ci-dessous, le texte que vous avez mis entre guillemet dans la fonction print() doit s'afficher en dessous quand vous cliquez sur le bouton PLAY. Une particularité de R est que le code executé est toujours précédé d\"un numéro de ligne [1], ne laissez pas ça vous distraire.*  "
      ],
      "metadata": {
        "id": "skUPQ048KOY0"
      }
    },
    {
      "cell_type": "markdown",
      "source": [
        "\n",
        "### 👩‍💻 **Variables**\n",
        "\n",
        "Le principe de la programmation consiste à placer des valeurs dans des variables. C'est très simple, à part le fait que les gens normaux écrivent :\n",
        "`x = 5`\n",
        "mais que R a l'habitude (étrange) d'utiliser une flèche à la place de = et d'inverser le sens logique : `5 <- x` mais à part ça tout va bien merci.\n",
        "\n",
        "📌*Exemple : Dans le cadre suivant, le résultat du calcul `2 ✖ 8` est placé dans la variable y. La valeur de y est ensuite affichée grâce à la fonction print()*\n",
        "\n",
        "\n",
        "```\n",
        "y <- 2 * 8\n",
        "print(y)\n",
        "```\n",
        "A vous d'essayer: copiez le code ci dessus, et collez-le dans la fenêtre de code ci-dessous, puis cliquez sur la flèche [►]\n"
      ],
      "metadata": {
        "id": "fhgYnf_IPN1m"
      }
    },
    {
      "cell_type": "code",
      "source": [
        "# Copiez-collez le code situé dans la case grise ci-dessus dans les lignes ci dessous\n",
        "\n",
        "\n",
        "\n",
        "# Puis appuyez sur le bouton d'exécution [►] à gauche"
      ],
      "metadata": {
        "id": "dNyWPG66RgS_"
      },
      "execution_count": null,
      "outputs": []
    },
    {
      "cell_type": "markdown",
      "source": [
        "🎯*Comme vous voyez, on peut mettre n'importe quelle valeur dans une variable, et on peut donner le nom qu'on veut à la variable : par exemple `x`, `x-calcul`, `chiffre_mystere`, `Ma_Variable` ....*\n",
        "\n",
        "### 👩‍💻 **Calculs mathématiques**\n",
        "A la base, R est un outil pour faore des calculs, vous pouvez maintenant commencer à essayer d'utiliser R pour afficher des calculs:\n",
        "\n",
        "📌*Exemple: le résultat d'un calcul peut être placé dans la variable x, et le résultat d'un calcul peut être affiché par print()*\n",
        "```\n",
        "x <- 2 * 8\n",
        "y <- 7\n",
        "print(x + y)\n",
        "```\n",
        "ou bien pour afficher du texte :\n",
        "\n",
        "📌*Exemple: on peut afficher du texte, et on peut aussi afficher successivement plusieurs commandes print()*\n",
        "```\n",
        "favourite_number <- 10  \n",
        "\n",
        "print(\"Mon chiffre préféré est le :\")\n",
        "print(favourite_number)\n",
        "```\n",
        "A vous d'essayer: copiez l'un des codes ci dessus, et collez-le dans la fenêtre de code ci-dessous, puis cliquez sur la flèche [►]"
      ],
      "metadata": {
        "id": "TbqHaZQ3RsNh"
      }
    },
    {
      "cell_type": "code",
      "source": [
        "# Copier les exemples des cases grises ci-dessus et les coller ci dessous\n",
        "\n",
        "\n",
        "\n",
        "# ..et lancez l'exécution"
      ],
      "metadata": {
        "id": "Hn4Rp5dcWaRm"
      },
      "execution_count": null,
      "outputs": []
    },
    {
      "cell_type": "markdown",
      "source": [
        "🎯*Dans ces exemples, les variables sont des valeurs numériques*\n",
        "\n",
        "### 👩‍💻 **Les types de variables : numérique, texte, vecteur**\n",
        "La variable la plus simple, comme vu ci-dessus, est de type **numérique**.\n",
        "\n",
        "Par exemple, la **valeur numérique** 7 peut être placée dans la **variable numérique** MonChiffrePrefere\n",
        "\n",
        "`MonChiffrePrefere <- 7`\n",
        "\n",
        "Une variable peut aussi être un **texte** (toujours placé entre guillements) : par exemple le **texte** \"John\" peut être placé dans la **variable** MonNom\n",
        "\n",
        "`MonNom <- \"John\"`\n",
        "\n",
        "\n",
        "Chose très utile: une variable peut être un **vecteur**. Un **vecteur** est très simple, c'est juste une liste de données, séparées par des virgules. ce vecteur est caractérisé par la lettre c (comme combinaison) suivie des données.\n",
        "\n",
        "Par exemple :\n",
        "\n",
        "```\n",
        "MesChiffresLoto <- c(0, 1, 2, 8, 18, 76)\n",
        "\n",
        "MesFruitsPreferes <- c(\"pomme\", \"banane\", \"kiwi)\n",
        "```\n",
        "\n",
        "Il existe d'autres types de variables, mais les *numériques*, *texte* et *vecteurs* sont les plus communs.\n",
        "Liste des types de variables en R :\n",
        "\n",
        "\n",
        "#![var](https://drive.usercontent.google.com/u/0/uc?id=1HC1RgLaAzVEG4Ssep9GVC1p8I2IbxVRT&export=download)"
      ],
      "metadata": {
        "id": "H-dHaK6Yh78m"
      }
    },
    {
      "cell_type": "markdown",
      "source": [
        "### 👩‍💻 **cat() : bien mieux que print () !**\n",
        "\n",
        "Vous êtes maintenant expert(e) en **print()**, mais avez-vous remarqué que cette fonction ne permet  d'afficher qu'un seul élément à la fois? Il existe une solution, au lieu d'écrire :\n",
        "\n",
        "```\n",
        "favourite_number <- 10  \n",
        "print(\"Mon chiffre préféré est le :\")\n",
        "print(favourite_number)\n",
        "```\n",
        "on peut utiliser la fonction **cat()** à la place de **print()** : on peut ainsi afficher toutes les variables qu'on veut dans une même ligne, en les séparant d'une virgule!\n",
        "\n",
        "📌*Exemple : utilisons cat() pour afficher à la fois un texte et le contenu de la variable favourite_number*\n",
        "\n",
        "\n",
        "```\n",
        "favourite_number <- 10  \n",
        "cat(\"Mon chiffre préféré est le :\", favourite_number )\n",
        "\n",
        "```\n",
        "\n",
        "\n"
      ],
      "metadata": {
        "id": "7uTzQytWYoAU"
      }
    },
    {
      "cell_type": "code",
      "source": [
        "# Essayez pour voir la différence entre print et cat en collant le texte de la case grise\n",
        "\n",
        "\n",
        "\n",
        "# N'oubliez pas d'exécuter votre code à l'aide du bouton ► une fois votre code écrit"
      ],
      "metadata": {
        "id": "jFLgwmpvZgic"
      },
      "execution_count": null,
      "outputs": []
    },
    {
      "cell_type": "markdown",
      "source": [
        "🎯*Petit plus : quand on utilise **cat()** au lieu de **print()**, R ne nous agace plus avec ses numéros de ligne [1] ! On peut même ajouter des sauts de lignes dans cat() en ajoutant `/n`*"
      ],
      "metadata": {
        "id": "GVK_yvQdZmB6"
      }
    },
    {
      "cell_type": "markdown",
      "source": [
        "### 👩‍💻 **readline()**\n",
        "C'est une fonction très intéressante, puisqu'elle permet à l'**utilisateur** de votre programme de **rentrer la variable** qu'il veut grâce à son clavier. La fonction **readline()** contient un **argument** entre guillement, le *prompt*, qui vous permet de vous adresser à l'utilisateur.\n",
        "\n",
        "📌*Exemple: demandons à l'utilisateur son nom, stockons son nom dans la variable nom, et affichons le nom grâce a la commande cat()*\n",
        "\n",
        "\n",
        "```\n",
        "nom <- readline(\"Quel est votre nom?\")\n",
        "cat (\"Bonjour \", nom)\n",
        "```\n",
        "\n"
      ],
      "metadata": {
        "id": "SClCAFq5Wq4J"
      }
    },
    {
      "cell_type": "code",
      "source": [
        "# Copiez-coller le code ici:\n",
        "\n",
        "\n",
        "\n",
        "\n",
        "# Puis lancez l'exécution avec le bouton ►"
      ],
      "metadata": {
        "id": "09F3ab2VYGYF"
      },
      "execution_count": null,
      "outputs": []
    },
    {
      "cell_type": "markdown",
      "source": [
        "🎯 *readline() est une fonction interactive et permet à l'utilisateur d'entrer du **texte** uniquement (même si on écrit un chiffre, il sera interprété comme un texte.*\n",
        "\n",
        "> *NB: On peut faire passer une variable d'un type à l'autre : par exemple imaginons qu'on demande l'âge à l'utilisateur:   \n",
        " `Age <- readline(\"Quel est votre âge?\")`   \n",
        " Si vous suivez bien, la fonction **readline()** récupère du **texte** auprès de l'utilisateur. Mais ici le texte, par exemple `\"25\"` écrit par l'utilisateur est en fait le chiffre `25`. On peut **convertir** le texte `\"25\"` en chiffre `25` grâce à la simple fonction `as.numeric` :  \n",
        "`Age <- as.numeric(readline(\"Quel est votre âge?\"))`*"
      ],
      "metadata": {
        "id": "RHU7fpfDl8Sr"
      }
    },
    {
      "cell_type": "markdown",
      "source": [
        "### 👩‍💻 **La fonction conditionnelle: if() {} else {}**\n",
        "\n",
        "La structure `if...else` permet d'exécuter un bloc de code (délimité par les accolades `{ }`) si une condition est TRUE, sinon un autre bloc `{ }` s'exécute.\n",
        "\n",
        "📌 *Exemple : Demander à l'utilisateur un chiffre, placer le chiffre en tant que variable numérique (as.numeric) dans la variable nombre, puis vérifier si le chiffre est positif ou négatif*\n",
        "\n",
        "```\n",
        "\n",
        "nombre <- as.numeric((readline(\"Entrez un nombre : \"))\n",
        "\n",
        "if (nombre > 0) {\n",
        "  cat(\"Le nombre est positif.\\n\")\n",
        "} else {\n",
        "  cat(\"Le nombre est négatif ou nul.\\n\")\n",
        "}\n",
        "\n",
        "```\n"
      ],
      "metadata": {
        "id": "QBx5RhL_n5yy"
      }
    },
    {
      "cell_type": "code",
      "source": [
        "# Tapez le code ci-dessous\n",
        "\n",
        "\n",
        "\n",
        "\n",
        "\n",
        "\n",
        "# Cliquez sur exécuter ► pour voir le résultat ci dessous"
      ],
      "metadata": {
        "id": "WpqpNJNtn4xb"
      },
      "execution_count": null,
      "outputs": []
    },
    {
      "cell_type": "markdown",
      "source": [
        "🎯*Notez que la condition est entre parenthèse (nombre > 0), et que le bloc de code effectué en cas de réponse positive ou négative sont dans des blocs délimités par `{ }`*"
      ],
      "metadata": {
        "id": "h-WQ-K5bsdu2"
      }
    },
    {
      "cell_type": "markdown",
      "source": [
        "### 👩‍💻 **La boucle: for() {}}**\n",
        "\n",
        "La fonction for() permet de répéter un bloc de code autant de fois que le nombre indiqué dans for (). Dans l'exemple ci dessous, la boucle for contient la variable i, qui est incrémentée de 1 à 5 grâce à l'expression for(i in 1:5)\n",
        "\n",
        "📌 *Exemple : la variable i est incrémentée de 1 à 5 en indiquant \"i in 1:5\", et à chaque cycle la variable i est affichée grâce à la fonction **cat()**, en prenant soin de sauter une ligne à chaque cycle grâce à \"\\n\"*\n",
        "\n",
        "```\n",
        "for (i in 1:5) {\n",
        "  cat(\"Nombre :\", i, \"\\n\")\n",
        "}\n",
        "```"
      ],
      "metadata": {
        "id": "rGATIyHXuc5H"
      }
    },
    {
      "cell_type": "code",
      "source": [
        "#Testez le code\n",
        "\n",
        "\n",
        "\n",
        "# Cliquez sur ►"
      ],
      "metadata": {
        "id": "7Aq6VRHGv8Us"
      },
      "execution_count": null,
      "outputs": []
    },
    {
      "cell_type": "markdown",
      "source": [
        "### 👩‍💻 **La boucle conditionnelle: while() {}**\n",
        "\n",
        "La fonction **while()** permet d'exécuter un bloc de code placé entre accolades `{ }` tant qu'une condition est vraie. Contrairement à **for()**, où le nombre d'itérations est défini à l'avance, **while()** s'exécute jusqu'à ce que la condition devienne fausse.\n",
        "\n",
        "📌 *Exemple: Un petit jeu: l'utilisateur doit deviner un nombre entre 1 et 10. La boucle continue jusqu'à ce qu'il trouve la bonne réponse*\n"
      ],
      "metadata": {
        "id": "VuSNzriftjFH"
      }
    },
    {
      "cell_type": "code",
      "source": [
        "# Code du petit jeu. Lisez attentivement le code et essayez de comprendre\n",
        "# N'hésitez pas à l'exécuter en cliquant sur ►, et à modifier le code pour mieux comprendre\n",
        "\n",
        "# Le nombre à deviner est placé dans cible\n",
        "cible <- 8\n",
        "\n",
        "# Le nombre entré par l'utilisateur s'appelle essai.\n",
        "# Au début de ce programme on\n",
        "# initialise la variable essai en lui assignant la valeur temporaire de 0\n",
        "essai <- 0\n",
        "\n",
        "# Répéter jusqu'à ce que l'utilisateur trouve le bon nombre\n",
        "while (essai != cible) {\n",
        "  essai <- as.numeric(readline(\"Devinez un nombre entre 1 et 10 : \"))\n",
        "}\n",
        "\n",
        "cat(\"🎉 Bravo ! Le nombre correct était\", cible)\n",
        "\n",
        "\n"
      ],
      "metadata": {
        "id": "zV31Wp930OJN"
      },
      "execution_count": null,
      "outputs": []
    },
    {
      "cell_type": "markdown",
      "source": [
        "🎯 *Notez l'utilisation de `!=` qui signifie, vous l'aurez compris, \"non égal\" ou `≠`*"
      ],
      "metadata": {
        "id": "ahJPhZCb26Tg"
      }
    },
    {
      "cell_type": "markdown",
      "source": [
        "### 👩‍💻 **Fonctions mathématiques**\n",
        "R est un langage plus particulièrement dédié aux mathématiues, et contient évidemment toutes les fonctions mathématiques, comme une calculatrice.\n",
        "Voici quelques fonctions classiques:\n",
        "#![var](https://drive.usercontent.google.com/u/0/uc?id=1UBgU6cwBaob1w0RLWrFt2t50Lgq7rsW4&export=download)\n",
        "\n",
        "\n",
        "Par exemple le code suivant\n",
        "```\n",
        "cat(\"Arrondi à 2 décimales : \", round(10.45678, 2))\n",
        "```\n",
        "...donnerait le résultat: `Arrondi à 2 décimales : 10.46`\n",
        "\n",
        "et le code suivant\n",
        "```\n",
        "cat(\"Racine carrée : \", sqrt(16))\n",
        "```\n",
        "... donnerait le résultat: `Racine carrée : 4`\n",
        "\n",
        "\n",
        "\n",
        "📌 Exemple:\n",
        "Dans l'exemple ci-dessous, un vecteur (qui je le rappelle est juste une série de données) est placé dans la variable x.\n",
        "Divers calculs (somme, moyenne...) sont effectués sur cette série de données et affichés grâce à la fonction **cat()**.\n"
      ],
      "metadata": {
        "id": "h929yl9H4TWV"
      }
    },
    {
      "cell_type": "code",
      "source": [
        "# Exemple de calculs\n",
        "\n",
        "# la variable x contient une série de chiffres appelée vecteur grâce à la fonction c():\n",
        "x <- c(1, 2, 5, 8, 10)\n",
        "\n",
        "# les calculs suivants sont effectués sur cette série de chiffres x :\n",
        "cat(\"Le vecteur x:\", x, \"\\n\")\n",
        "cat(\"Somme :\", sum(x), \"\\n\")\n",
        "cat(\"Produit :\", prod(x), \"\\n\")\n",
        "cat(\"Moyenne :\", mean(x), \"\\n\")\n",
        "cat(\"Médiane :\", median(x), \"\\n\")\n",
        "cat(\"Variance :\", var(x), \"\\n\")\n",
        "cat(\"Écart-type :\", sd(x), \"\\n\")\n",
        "cat(\"Valeur minimale :\", min(x), \"\\n\")\n",
        "cat(\"Valeur maximale :\", max(x), \"\\n\")\n",
        "\n",
        "\n",
        "# Cliquez sur ► pour exécuter"
      ],
      "metadata": {
        "id": "5AYY3fs3Tuur"
      },
      "execution_count": null,
      "outputs": []
    },
    {
      "cell_type": "markdown",
      "source": [
        "🎯 *Vous avez maintenant une bonne idée des fonctions algorithmiques et mathématiques de R !\n",
        "Vous pouvez passer à l'exercice de fin de chapitre avant de passer au chapitre suivant.\n",
        "\n",
        "\n"
      ],
      "metadata": {
        "id": "hIub5SgdUJsW"
      }
    },
    {
      "cell_type": "markdown",
      "source": [
        "\n",
        "###![CHAPITRE 2](https://drive.usercontent.google.com/u/0/uc?id=1xmZ5Y-fDJd2QSaUqDqJzJiwEHo3u__8N&export=download)\n",
        "\n",
        "### **But de l'exercice**\n",
        "Faites dans la fenêtre de code suivante un petit programme qui :\n",
        "\n",
        "*   Demande à l'utilisateur son année de naissance  [fonction `readline()`] sous format numérique [fonction `as.numeric()`]\n",
        "*   Place l'année de naissance dans une variable AnneeNaissance [`<-`]\n",
        "*   Annonce \"Je vais calculer votre âge\" [fonction `print()`]\n",
        "*   Calcule l'age de la personne et place cette valeur dans la variable Age\n",
        "*   Affiche \"Votre âge est : \" suivi de l'âge [fonction `cat()`]\n",
        "\n",
        "\n",
        "\n"
      ],
      "metadata": {
        "id": "e8gvEY5jl9nJ"
      }
    },
    {
      "cell_type": "code",
      "source": [
        "# A vous de jouer !\n",
        "\n",
        "\n",
        "\n",
        "\n",
        "\n",
        "\n",
        "# Une fois que vous avez écrit votre programme, testez le en appuyant sur ►"
      ],
      "metadata": {
        "id": "iN2OOnKiGQ4F"
      },
      "execution_count": null,
      "outputs": []
    },
    {
      "cell_type": "markdown",
      "source": [
        "###**Réponse**\n",
        "Cliquez ici pour avoir la réponse (après avoir essayé vous même bien sur!)"
      ],
      "metadata": {
        "id": "zxm6_ibgnJ6T"
      }
    },
    {
      "cell_type": "markdown",
      "source": [
        "\n",
        "\n",
        "```\n",
        "# Demande à l'utilisateur son année de naissance et la place dans la variable AnneeNaissance\n",
        "AnneeNaissance <- as.numeric(readline(prompt = \"Entrez votre année de naissance : \"))\n",
        "\n",
        "# Annonce que l'on va calculer l'âge\n",
        "cat(\"Je vais calculer votre âge\\n\")\n",
        "\n",
        "# Calcule l'âge\n",
        "Age <- (2025 - AnneeNaissance)\n",
        "\n",
        "# Affiche le résultat\n",
        "cat(\"Votre âge est :\", Age, \"\\n\")\n",
        "```\n",
        "\n",
        "\n",
        "👏 Bravo d'être arrivés jusqu'ici !\n",
        "Vous pouvez maintenant accéder au [Chapitre 2 ](https://colab.research.google.com/drive/1u8bUt26lHhxqOi8GWMPc976M8y--GlW_?usp=sharing)\n",
        "\n",
        "(Prière de remplir le petit formulaire ci dessous auparavant)"
      ],
      "metadata": {
        "id": "67WavnO8mC0I"
      }
    },
    {
      "cell_type": "markdown",
      "source": [
        "###![CHAPITRE 2](https://drive.usercontent.google.com/u/0/uc?id=1uihk7uq_UByPt1SH84RCrjbtwmtEkTV6&export=download)\n",
        "\n",
        "\n",
        "\n",
        "SVP veuillez répondre au petit sondage anonyme ci dessous."
      ],
      "metadata": {
        "id": "-pLRQOD5TQ9L"
      }
    },
    {
      "cell_type": "code",
      "source": [
        "# @title Sondage anonyme\n",
        "# @markdown **Petit sondage**\\\n",
        "# @markdown Remplissez les informations ci-dessous et cliquez sur Exécuter ▶ pour envoyer vos réponses.\n",
        "\n",
        "CHAPITRE_COURANT <- \"CHAPITRE_1\"\n",
        "Prenom <- \"Ecrire ici\" # @param {type:\"string\"}\n",
        "Nom <- \"Ecrire ici\" # @param {type:\"string\"}\n",
        "Diplome_actuel = 'Professionnel/Diplômé' # @param [\"Professionnel/Diplômé\", \"Prepa Bac+1-2\", \"Inge Bac+1-3\",  \"Bachelor 1-3\", \"Université L1-L3\", \"Université M1-M2\", \"Doctorant\"]\n",
        "# @markdown **Ce format de cours vous convient-il ? [0=Pas du tout | 10 Parfait]**\n",
        "Q2 <- 5 # @param {type:\"slider\", min:1, max:10, step:1}\n",
        "# @markdown **Avez-vous bien saisi les bases  ? [0=Pas du tout | 10 Parfait]**\n",
        "Q3 <- 5 # @param {type:\"slider\", min:1, max:10, step:1}\n",
        "# @markdown **Avez-vous des commentaires**\n",
        "commentaire <- \"Ecrire ici\" # @param {type:\"string\"}\n",
        "# @markdown ---\n",
        "# @markdown Cliquez sur Exécuter ▶ pour valider votre sondage. Merci!\n",
        "\n",
        "\n",
        "\n",
        "\n",
        "# Charger les packages nécessaires\n",
        "if (!require(httr)) install.packages(\"httr\", repos = \"http://cran.rstudio.com/\")\n",
        "if (!require(stringr)) install.packages(\"stringr\", repos = \"http://cran.rstudio.com/\")\n",
        "\n",
        "library(httr)\n",
        "library(stringr)\n",
        "\n",
        "# URL du Google Form\n",
        "form_url <- \"https://docs.google.com/forms/u/0/d/e/1FAIpQLScdlddezflctE_VwnY2hIJIbn1xhlBMoGaMqVcyV8IvCpa8Vw/formResponse\"\n",
        "\n",
        "# Correspondance des champs avec ceux du formulaire\n",
        "answers <- list(\n",
        "  \"entry.1649154935\" = CHAPITRE_COURANT,\n",
        "  \"entry.1030536647\" = Prenom,\n",
        "  \"entry.869694598\" = Nom,\n",
        "  \"entry.1554909193\" = as.character(Diplome_actuel),\n",
        "  \"entry.563756531\" = as.character(Q2),\n",
        "  \"entry.1963779262\" = as.character(Q3),\n",
        "  \"entry.1918008284\" = commentaire\n",
        ")\n",
        "\n",
        "# Envoyer les réponses\n",
        "response <- POST(url = form_url, body = answers, encode = \"form\")\n",
        "\n",
        "# Vérifier le statut de la soumission\n",
        "if (status_code(response) == 200) {\n",
        "  print(\"✅ Formulaire soumis avec succès !\")\n",
        "} else {\n",
        "  print(paste(\"❌ Échec de la soumission :\", status_code(response)))\n",
        "}\n"
      ],
      "metadata": {
        "id": "XOvsv4sl9XUS",
        "collapsed": true,
        "cellView": "form"
      },
      "execution_count": null,
      "outputs": []
    }
  ]
}
