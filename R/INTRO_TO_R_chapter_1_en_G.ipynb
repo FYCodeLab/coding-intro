{
  "nbformat": 4,
  "nbformat_minor": 0,
  "metadata": {
    "colab": {
      "provenance": [],
      "collapsed_sections": [
        "zxm6_ibgnJ6T"
      ],
      "include_colab_link": true
    },
    "kernelspec": {
      "name": "ir",
      "display_name": "R"
    },
    "language_info": {
      "name": "R"
    }
  },
  "cells": [
    {
      "cell_type": "markdown",
      "metadata": {
        "id": "view-in-github",
        "colab_type": "text"
      },
      "source": [
        "<a href=\"https://colab.research.google.com/github/FYCodeLab/coding-intro/blob/main/R/INTRO_TO_R_chapter_1_en_G.ipynb\" target=\"_parent\"><img src=\"https://colab.research.google.com/assets/colab-badge.svg\" alt=\"Open In Colab\"/></a>"
      ]
    },
    {
      "cell_type": "markdown",
      "source": [
        "![link text](https://github.com/FYCodeLab/coding-intro/blob/main/assets/INTRO-Banner-intro-R_en.png?raw=true)\n",
        "*A teaching module for those who want to know a bit more, but not too much*\n",
        "\n",
        "R is a language widely used in research. It is particularly well-suited for mathematics, statistics, and data analysis because it is powerful and very fast. Plus, it isn’t too difficult to get started with.\n",
        "\n",
        "### **A Little History**\n",
        "\n",
        "R was created by [Ross Ihaka](https://en.wikipedia.org/wiki/Ross_Ihaka) and [Robert Gentleman](https://en.wikipedia.org/wiki/Robert_Gentleman_(statistician)) as a programming language intended for teaching introductory statistics. The project began in 1993 at the University of Auckland in New Zealand. Why the name R? It’s simple: R is based on another language called [S](https://en.wikipedia.org/wiki/S_(programming_language)) (and no, I haven’t looked into why that one was called S).\n",
        "\n",
        "This programming language is now very widespread and has given millions of professionals—in both academia and industry—access to an open‐source language that is both simple and powerful.\n",
        "\n",
        "In biology, [R](https://en.wikipedia.org/wiki/R_(programming_language)) and [Python](https://en.wikipedia.org/wiki/Python_(programming_language)) are the most frequently used languages. Here, we will explore the main commands of R and let you have a little fun. In doing so, you will experience the joy of programming.\n",
        "\n",
        "### **What to Do With Your Code?**\n",
        "\n",
        "If you want to write a document, there are several programs available, but you will probably prefer to use Word. Similarly, if you want to code in R, the simplest option is to use [RStudio](https://posit.co/download/rstudio-desktop/). It is free and easy to use. This type of software is called an IDE (Integrated Development Environment), which simply means a program that lets you write and execute code.\n",
        "For this brief introductory course—and for simplicity’s sake—I will not ask you to install RStudio. Instead, we will use another IDE that is online, called Google Colab.\n",
        "\n",
        "### **What Is Google Colab?**\n",
        "I mention this digression because Google Colab is a tool that is both extremely simple and extremely powerful, available to everyone for free.\n",
        "[Google Colab](https://medium.com/kainos-applied-innovation/how-google-has-crushed-it-with-colaboratory-5664b5fb5856) was created in 2017 and provides everyone with a simple environment in which to run Python and R code. It is an online tool, so the computations are not performed on your computer but on Google’s servers (these remote computers in the cloud are called servers). The servers provided free by Google are much more powerful and faster, allowing you to perform extremely long and complex tasks without having to purchase a supercomputer.\n",
        "\n",
        "Google Colab is an IDE (a program for executing code). It is somewhat unusual because it takes the form of a **notebook**. In computing, a notebook refers to an IDE that resembles a web page rather than the stereotypical hacker’s black screen. This way of presenting code—in sequential cells immediately followed by their output—is ideal for learning programming and for scientific use. Notebooks were popularized in 2014 thanks to the [Jupyter Project](https://en.wikipedia.org/wiki/Project_Jupyter), and Google Colab is an excellent example; we will use it today for this introduction.\n",
        "*Note: Google Colab can run either R or Python; simply choose the appropriate language in the menu `Modify > Notebook settings`* \\\n",
        "\n",
        "\n",
        "\n",
        "![ide](https://github.com/FYCodeLab/coding-intro/blob/main/assets/INTRO-IDE-R-EN.jpg?raw=true)\n"
      ],
      "metadata": {
        "id": "YA3qkbLWEL6r"
      }
    },
    {
      "cell_type": "markdown",
      "source": [
        "### **How to Use Google Colab to Learn to Code?**\n",
        "\n",
        "It’s very simple: at any time you can use the **code cells** provided throughout this lesson. In these **code cells** you can copy and paste the given examples as well as write your own programs.\n",
        "1. A code cell is simply a text window in which you can write your code.\n",
        "2. To run the code, simply click the little **[►]** arrow on the left side of the cell.\n",
        "3. Once your code is executed (this may take a few seconds), its output will appear in the **console** located below the code cell. The **console** displays the result of your code and informs you of any issues with an **error message** (also called a **traceback**).\n",
        "\n",
        "**Never hesitate to modify the content of a code cell**—this is the best way to learn.\n",
        "\n",
        "![link text](https://github.com/FYCodeLab/coding-intro/blob/main/assets/intro-coding-windows.png?raw=true)\n",
        "\n",
        "## **Error Messages (Tracebacks)**\n",
        "Throughout your budding career as a bioinformatician, you will encounter many error messages in your console.\n",
        "An error message is called a **traceback**: it tells you the type of error and on which line it occurred.\n",
        "\n",
        "In such cases, simply correct the error and press the **[►]** button again, hoping that the correction works. Don’t worry—this trial-and-error approach is perfectly normal; it’s called programming 🥰\n",
        "\n",
        "![link text](https://github.com/FYCodeLab/coding-intro/blob/main/assets/intro-coding-error-en.jpg?raw=true)\n",
        "\n",
        "## **The Hash `#`**\n",
        "In a computer program, your code is always accompanied by **comments**. These comments help programmers understand what others (or even themselves) have written.\n",
        "These comments scattered throughout the code are preceded by a `#`. Any `#` symbol tells the compiler to ignore everything that follows it.\n",
        "\n",
        "Now that you know how to read and use your code cell, you are ready to start learning the basics of coding!"
      ],
      "metadata": {
        "id": "bxdRC2HcPawo"
      }
    },
    {
      "cell_type": "markdown",
      "source": [
        "#![CHAPTER 1](https://github.com/FYCodeLab/coding-intro/blob/main/assets/intro-banner-ch1-en2.png?raw=true)\n",
        "\n",
        "Here are some basic functions to get you started. This Google Colab page is a notebook, so never hesitate to modify the given examples to see the results.\n",
        "\n",
        "### 👩‍💻 **print()**\n",
        "\n",
        "The print() function displays whatever you want. It is the simplest (and most useful) function.\n",
        "\n",
        "📌 *Example: This program prints the traditional text for programming beginners*\n",
        "```\n",
        "print(\"Hello, World!\")\n",
        "```\n",
        "\n",
        "Copy and paste the code above into the grey code cell below and click the little [►] button on the left.\n",
        "\n",
        "*NB: To start running the code on this page, you will need to log in with your Google account. If you have any doubts about the code on this page, please do not hesitate to contact us.*\n",
        "#![CHAPTER 2](https://github.com/FYCodeLab/coding-intro/blob/main/assets/Intro-connect-en.png?raw=true)\n"
      ],
      "metadata": {
        "id": "f8DgeLN0DwfI"
      }
    },
    {
      "cell_type": "code",
      "source": [
        "# This is a code cell. Code cells contain comments in green (like this one),\n",
        "# which is very convenient. Copy and paste the code above here:\n",
        "\n",
        "\n",
        "\n",
        "# Once the code above is entered, click the round EXECUTE button [►] on the left to run it.\n",
        "# The result will appear below this cell"
      ],
      "metadata": {
        "id": "A_gkeb6tGldN"
      },
      "execution_count": null,
      "outputs": []
    },
    {
      "cell_type": "markdown",
      "source": [
        "🎯 *Normally, if you have followed the instructions below, the text you placed between the quotation marks in the print() function should appear below when you click the PLAY button. One quirky feature of R is that executed code is always preceded by a line number (e.g. [1]); don’t let that distract you.*  "
      ],
      "metadata": {
        "id": "skUPQ048KOY0"
      }
    },
    {
      "cell_type": "markdown",
      "source": [
        "### 👩‍💻 **Variables**\n",
        "\n",
        "The basic idea of programming is to store values in variables. It’s very simple—except that while most people write:\n",
        "`x = 5`\n",
        "R, rather peculiarly, prefers to use an arrow in place of `=` and reverse the order, writing it as `5 <- x`. But aside from that, everything is just fine.\n",
        "\n",
        "📌 *Example: In the snippet below, the result of the calculation `2 ✖ 8` is stored in the variable `y`. The value of `y` is then displayed using the print() function*\n",
        "\n",
        "```\n",
        "y <- 2 * 8\n",
        "print(y)\n",
        "```\n",
        "Now it’s your turn: copy the code above and paste it into the code cell below, then click the [►] arrow.\n"
      ],
      "metadata": {
        "id": "fhgYnf_IPN1m"
      }
    },
    {
      "cell_type": "code",
      "source": [
        "# Copy and paste the code from the grey cell above into the lines below\n",
        "\n",
        "\n",
        "\n",
        "# Then press the execution button [►] on the left"
      ],
      "metadata": {
        "id": "dNyWPG66RgS_"
      },
      "execution_count": null,
      "outputs": []
    },
    {
      "cell_type": "markdown",
      "source": [
        "🎯 *As you can see, you can store any value in a variable and give the variable any name you want—for example, `x`, `x-calcul`, `chiffre_mystere`, `Ma_Variable`, etc.*\n",
        "\n",
        "### 👩‍💻 **Mathematical Calculations**\n",
        "Originally, R is a tool designed for performing calculations. You can now start experimenting with using R to display calculations:\n",
        "\n",
        "📌 *Example: The result of a calculation can be stored in the variable `x`, and the result can be displayed using print()*\n",
        "```\n",
        "x <- 2 * 8\n",
        "y <- 7\n",
        "print(x + y)\n",
        "```\n",
        "or, to display text:\n",
        "\n",
        "📌 *Example: You can display text and also display several print() commands consecutively*\n",
        "```\n",
        "favourite_number <- 10  \n",
        "\n",
        "print(\"My favourite number is:\")\n",
        "print(favourite_number)\n",
        "```\n",
        "Now it’s your turn: copy one of the codes above, paste it into the code cell below, then click the [►] arrow."
      ],
      "metadata": {
        "id": "TbqHaZQ3RsNh"
      }
    },
    {
      "cell_type": "code",
      "source": [
        "# Copy the examples from the grey cells above and paste them below\n",
        "\n",
        "\n",
        "\n",
        "# ...and then run the code"
      ],
      "metadata": {
        "id": "Hn4Rp5dcWaRm"
      },
      "execution_count": null,
      "outputs": []
    },
    {
      "cell_type": "markdown",
      "source": [
        "🎯 *In these examples, the variables hold numerical values*\n",
        "\n",
        "### 👩‍💻 **Types of Variables: Numeric, Text, Vector**\n",
        "The simplest variable, as seen above, is of type **numeric**.\n",
        "\n",
        "For example, the **numeric value** 7 can be stored in the **numeric variable** `MonChiffrePrefere`\n",
        "\n",
        "`MonChiffrePrefere <- 7`\n",
        "\n",
        "A variable can also be text (always enclosed in quotes): for example, the **text** \"John\" can be stored in the **variable** `MonNom`\n",
        "\n",
        "`MonNom <- \"John\"`\n",
        "\n",
        "\n",
        "Very useful: a variable can be a **vector**. A **vector** is very simple—it is just a list of data separated by commas. This vector is created using the letter `c` (for combine) followed by the data.\n",
        "\n",
        "For example:\n",
        "\n",
        "```\n",
        "MesChiffresLoto <- c(0, 1, 2, 8, 18, 76)\n",
        "\n",
        "MesFruitsPreferes <- c(\"pomme\", \"banane\", \"kiwi)\n",
        "```\n",
        "\n",
        "There are other types of variables, but *numeric*, *text*, and *vector* are the most common.\n",
        "List of variable types in R:\n",
        "\n",
        "\n",
        "#![var](https://github.com/FYCodeLab/coding-intro/blob/main/assets/intro-var-r-en.png?raw=true)"
      ],
      "metadata": {
        "id": "H-dHaK6Yh78m"
      }
    },
    {
      "cell_type": "markdown",
      "source": [
        "### 👩‍💻 **cat(): Much Better Than print()!**\n",
        "\n",
        "You are now an expert in **print()**, but have you noticed that this function only displays one element at a time? There is a solution: instead of using the print() function you can use the cat() function. The **cat()** function enables you to display all the variables you want on the same line, separated by commas!\n",
        "\n",
        "📌 *Example: Let’s use `print()` and `cat()` to display both a piece of text and the content of the variable `favourite_number`*\n",
        "\n",
        "\n"
      ],
      "metadata": {
        "id": "7uTzQytWYoAU"
      }
    },
    {
      "cell_type": "code",
      "source": [
        "# See the difference between print() and cat()\n",
        "# Here is an example with print()\n",
        "\n",
        "favourite_number <- 10\n",
        "print(\"My favourite number is:\")\n",
        "print(favourite_number)\n",
        "\n",
        "# Run the code by using the ► button"
      ],
      "metadata": {
        "id": "jFLgwmpvZgic"
      },
      "execution_count": null,
      "outputs": []
    },
    {
      "cell_type": "code",
      "source": [
        "# See the difference between print() and cat()\n",
        "# Here is an example with cat()\n",
        "\n",
        "favourite_number <- 10\n",
        "cat(\"My favourite number is:\", favourite_number )\n",
        "\n",
        "# Run the code by using the ► button"
      ],
      "metadata": {
        "id": "Dze1OrjMpdIN"
      },
      "execution_count": null,
      "outputs": []
    },
    {
      "cell_type": "markdown",
      "source": [
        "🎯 *Bonus: When you use **cat()** instead of **print()**, R no longer annoys you with its line numbers (e.g. [1])! You can even add line breaks in cat() by including `\\n`*"
      ],
      "metadata": {
        "id": "GVK_yvQdZmB6"
      }
    },
    {
      "cell_type": "markdown",
      "source": [
        "### 👩‍💻 **readline()**\n",
        "This is a very interesting function because it allows the **user** of your program to **enter a variable** using their keyboard. The **readline()** function takes an argument (the *prompt*) enclosed in quotes, which lets you address the user directly.\n",
        "\n",
        "📌 *Example: Let’s ask the user for their name, store it in the variable `nom`, and display the name using the cat() command*\n",
        "\n",
        "\n",
        "```\n",
        "nom <- readline(\"What is your name?\")\n",
        "cat(\"Hello \", nom)\n",
        "```\n"
      ],
      "metadata": {
        "id": "SClCAFq5Wq4J"
      }
    },
    {
      "cell_type": "code",
      "source": [
        "# Copy and paste the code here:\n",
        "\n",
        "\n",
        "\n",
        "# Then run it by clicking the ► button"
      ],
      "metadata": {
        "id": "09F3ab2VYGYF"
      },
      "execution_count": null,
      "outputs": []
    },
    {
      "cell_type": "markdown",
      "source": [
        "🎯 *readline() is an interactive function that allows the user to enter **text** only (even if they type a number, it will be interpreted as text).*\n",
        "\n",
        "> *NB: You can convert a variable from one type to another. For example, suppose we ask the user for their age:  \n",
        " `Age <- readline(\"What is your age?\")`   \n",
        " If you follow correctly, the readline() function retrieves **text** from the user. But here the text—for example, \"25\" entered by the user—actually represents the number 25. You can **convert** the text \"25\" to the number 25 using the simple function as.numeric:  \n",
        "`Age <- as.numeric(readline(\"What is your age?\"))`*"
      ],
      "metadata": {
        "id": "RHU7fpfDl8Sr"
      }
    },
    {
      "cell_type": "markdown",
      "source": [
        "### 👩‍💻 **The Conditional Function: if() {} else {}**\n",
        "\n",
        "The `if...else` structure lets you execute a block of code (enclosed in curly braces `{ }`) if a condition is TRUE; otherwise, a different block of code is executed.\n",
        "\n",
        "📌 *Example: Ask the user for a number, store it as a numeric variable (using as.numeric) in the variable `nombre`, then check whether the number is positive or negative*\n",
        "\n"
      ],
      "metadata": {
        "id": "QBx5RhL_n5yy"
      }
    },
    {
      "cell_type": "code",
      "source": [
        "# Test the code below\n",
        "\n",
        "nombre <- as.numeric(readline(\"Enter a number: \"))\n",
        "\n",
        "if (nombre > 0) {\n",
        "  cat(\"The number is positive.\\n\")\n",
        "} else {\n",
        "  cat(\"The number is negative or zero.\\n\")\n",
        "}\n",
        "\n",
        "# Click on ► to see the result"
      ],
      "metadata": {
        "id": "WpqpNJNtn4xb"
      },
      "execution_count": null,
      "outputs": []
    },
    {
      "cell_type": "markdown",
      "source": [
        "🎯 *Note that the condition is placed between parentheses (nombre > 0) and that the block of code executed in either case is enclosed in curly braces `{ }`*"
      ],
      "metadata": {
        "id": "h-WQ-K5bsdu2"
      }
    },
    {
      "cell_type": "markdown",
      "source": [
        "### 👩‍💻 **The Loop: for() {}**\n",
        "\n",
        "The for() function allows you to repeat a block of code as many times as the number specified in the loop. In the example below, the for loop uses the variable `i`, which is incremented from 1 to 5 using the expression `for(i in 1:5)`.\n",
        "\n",
        "📌 *Example: The variable `i` is incremented from 1 to 5 by specifying `i in 1:5`, and in each cycle the variable is displayed using the **cat()** function, taking care to add a line break at each iteration with \"\\n\"*\n",
        "\n"
      ],
      "metadata": {
        "id": "rGATIyHXuc5H"
      }
    },
    {
      "cell_type": "code",
      "source": [
        "# Test the following code to understand how the for() function works. \"/n\" means \"go to the next line\"\n",
        "\n",
        "for (i in 1:5) {\n",
        "  cat(\"Number:\", i, \"\\n\")\n",
        "}\n",
        "\n",
        "\n",
        "# Click on ►"
      ],
      "metadata": {
        "id": "7Aq6VRHGv8Us"
      },
      "execution_count": null,
      "outputs": []
    },
    {
      "cell_type": "markdown",
      "source": [
        "### 👩‍💻 **The Conditional Loop: while() {}**\n",
        "\n",
        "The **while()** function lets you execute a block of code (enclosed in curly braces `{ }`) as long as a condition is true. Unlike **for()**, where the number of iterations is predetermined, **while()** continues until the condition becomes false.\n",
        "\n",
        "📌 *Example: A little game—ask the user to guess a number between 1 and 10. The loop continues until they guess the correct number.*\n"
      ],
      "metadata": {
        "id": "VuSNzriftjFH"
      }
    },
    {
      "cell_type": "code",
      "source": [
        "# Code for the little game. Read the code carefully and try to understand it\n",
        "# Feel free to run it by clicking on ►, and modify the code to better understand it\n",
        "\n",
        "# The number to guess is stored in the variable `cible`\n",
        "cible <- 8\n",
        "\n",
        "# The number entered by the user is called `essai`.\n",
        "# At the beginning of this program, we initialize the variable `essai` by assigning it the temporary value 0\n",
        "essai <- 0\n",
        "\n",
        "# Repeat until the user guesses the correct number\n",
        "while (essai != cible) {\n",
        "  essai <- as.numeric(readline(\"Guess a number between 1 and 10: \"))\n",
        "}\n",
        "\n",
        "cat(\"🎉 Congratulations! The correct number was\", cible)\n"
      ],
      "metadata": {
        "id": "zV31Wp930OJN"
      },
      "execution_count": null,
      "outputs": []
    },
    {
      "cell_type": "markdown",
      "source": [
        "🎯 *Note the use of `!=`, which, as you may have guessed, means \"not equal\" (≠).*"
      ],
      "metadata": {
        "id": "ahJPhZCb26Tg"
      }
    },
    {
      "cell_type": "markdown",
      "source": [
        "### 👩‍💻 **Mathematical Functions**\n",
        "R is a language particularly dedicated to mathematics, and it naturally includes all the mathematical functions you’d expect—just like a calculator.\n",
        "Here are a few classic functions:\n",
        "#![var](https://github.com/FYCodeLab/coding-intro/blob/main/assets/intro-calculs-r-en.png?raw=true)\n",
        "\n",
        "For example, the following code\n",
        "```\n",
        "cat(\"Rounded to 2 decimals: \", round(10.45678, 2))\n",
        "```\n",
        "...would produce: `Rounded to 2 decimals: 10.46`\n",
        "\n",
        "and the following code\n",
        "```\n",
        "cat(\"Square root: \", sqrt(16))\n",
        "```\n",
        "...would produce: `Square root: 4`\n",
        "\n",
        "\n",
        "📌 *Example:*\n",
        "In the example below, a vector (which, recall, is simply a series of data) is stored in the variable `x`.\n",
        "Various calculations (sum, average, etc.) are performed on this series and displayed using the **cat()** function.\n"
      ],
      "metadata": {
        "id": "h929yl9H4TWV"
      }
    },
    {
      "cell_type": "code",
      "source": [
        "# Example Calculations\n",
        "\n",
        "# The variable `x` contains a series of numbers (a vector) created using the c() function:\n",
        "x <- c(1, 2, 5, 8, 10)\n",
        "\n",
        "# The following calculations are performed on this vector `x`:\n",
        "cat(\"The vector x:\", x, \"\\n\")\n",
        "cat(\"Sum:\", sum(x), \"\\n\")\n",
        "cat(\"Product:\", prod(x), \"\\n\")\n",
        "cat(\"Average:\", mean(x), \"\\n\")\n",
        "cat(\"Median:\", median(x), \"\\n\")\n",
        "cat(\"Variance:\", var(x), \"\\n\")\n",
        "cat(\"Standard Deviation:\", sd(x), \"\\n\")\n",
        "cat(\"Minimum value:\", min(x), \"\\n\")\n",
        "cat(\"Maximum value:\", max(x), \"\\n\")\n",
        "\n",
        "\n",
        "# Click on ► to execute"
      ],
      "metadata": {
        "id": "5AYY3fs3Tuur"
      },
      "execution_count": null,
      "outputs": []
    },
    {
      "cell_type": "markdown",
      "source": [
        "🎯 *You now have a good idea of R’s algorithmic and mathematical functions!\n",
        "You can now proceed to the end-of-chapter exercise before moving on to the next chapter.\n",
        "\n"
      ],
      "metadata": {
        "id": "hIub5SgdUJsW"
      }
    },
    {
      "cell_type": "markdown",
      "source": [
        "###![CHAPTER 1](https://github.com/FYCodeLab/coding-intro/blob/main/assets/intro-exercise-en.png?raw=true)\n",
        "\n",
        "### **Your challenge:**\n",
        "In the following code cell, create a small program that:\n",
        "\n",
        "*   Asks the user for their birth year [using the `readline()` function] in numeric format [using the `as.numeric()` function]\n",
        "*   Stores the birth year in a variable named `AnneeNaissance` [`<-`]\n",
        "*   Announces \"I am going to calculate your age\" [using the `print()` function]\n",
        "*   Calculates the person’s age and stores that value in the variable `Age`\n",
        "*   Displays \"Your age is: \" followed by the age [using the `cat()` function]\n",
        "\n",
        "\n",
        "\n"
      ],
      "metadata": {
        "id": "e8gvEY5jl9nJ"
      }
    },
    {
      "cell_type": "code",
      "source": [
        "# It’s your turn!\n",
        "\n",
        "\n",
        "\n",
        "\n",
        "\n",
        "\n",
        "# Once you have written your program, test it by pressing ►"
      ],
      "metadata": {
        "id": "iN2OOnKiGQ4F"
      },
      "execution_count": null,
      "outputs": []
    },
    {
      "cell_type": "markdown",
      "source": [
        "### **Answer**\n",
        "Click here to see the answer (after trying it yourself, of course!)"
      ],
      "metadata": {
        "id": "zxm6_ibgnJ6T"
      }
    },
    {
      "cell_type": "markdown",
      "source": [
        "```\n",
        "# Ask the user for their birth year and store it in the variable AnneeNaissance\n",
        "AnneeNaissance <- as.numeric(readline(prompt = \"Enter your birth year: \"))\n",
        "\n",
        "# Announce that we are going to calculate your age\n",
        "cat(\"I am going to calculate your age\\n\")\n",
        "\n",
        "# Calculate the age\n",
        "Age <- (2025 - AnneeNaissance)\n",
        "\n",
        "# Display the result\n",
        "cat(\"Your age is:\", Age, \"\\n\")\n",
        "```\n",
        "\n",
        "\n",
        "👏 Congratulations on making it this far!\n",
        "You can now access [Chapter 2](https://colab.research.google.com/drive/1u8bUt26lHhxqOi8GWMPc976M8y--GlW_?usp=sharing)\n",
        "\n",
        "(Please fill out the short form below first)"
      ],
      "metadata": {
        "id": "67WavnO8mC0I"
      }
    },
    {
      "cell_type": "markdown",
      "source": [
        "###![CHAPTER 2](https://github.com/FYCodeLab/coding-intro/blob/main/assets/intro-survey-en.png?raw=true)\n",
        "\n",
        "\n",
        "\n",
        "Please answer the short survey below. Your answers will remain confidential."
      ],
      "metadata": {
        "id": "-pLRQOD5TQ9L"
      }
    },
    {
      "cell_type": "code",
      "source": [
        "# @title Anonymous Survey\n",
        "# @markdown **Short Survey**\\\n",
        "# @markdown Please fill in the information below and click Execute ▶ to submit your responses.\n",
        "\n",
        "CHAPITRE_COURANT <- \"CHAPITRE_1\"\n",
        "Prenom <- \"Enter here\" # @param {type:\"string\"}\n",
        "Nom <- \"Enter here\" # @param {type:\"string\"}\n",
        "Diplome_actuel = 'Professionnel/Diplômé' # @param [\"Professionnel/Diplômé\", \"Prepa Bac+1-2\", \"Inge Bac+1-3\",  \"Bachelor 1-3\", \"Université L1-L3\", \"Université M1-M2\", \"Doctorant\"]\n",
        "# @markdown **Does this course format suit you? [0 = Not at all | 10 = Perfect]**\n",
        "Q2 <- 5 # @param {type:\"slider\", min:1, max:10, step:1}\n",
        "# @markdown **Did you grasp the basics well? [0 = Not at all | 10 = Perfect]**\n",
        "Q3 <- 5 # @param {type:\"slider\", min:1, max:10, step:1}\n",
        "# @markdown **Do you have any comments?**\n",
        "commentaire <- \"Enter here\" # @param {type:\"string\"}\n",
        "# @markdown ---\n",
        "# @markdown Click Execute ▶ to submit your survey. Thank you!\n",
        "\n",
        "\n",
        "\n",
        "\n",
        "# Load the necessary packages\n",
        "if (!require(httr)) install.packages(\"httr\", repos = \"http://cran.rstudio.com/\")\n",
        "if (!require(stringr)) install.packages(\"stringr\", repos = \"http://cran.rstudio.com/\")\n",
        "\n",
        "library(httr)\n",
        "library(stringr)\n",
        "\n",
        "# URL of the Google Form\n",
        "form_url <- \"https://docs.google.com/forms/u/0/d/e/1FAIpQLScdlddezflctE_VwnY2hIJIbn1xhlBMoGaMqVcyV8IvCpa8Vw/formResponse\"\n",
        "\n",
        "# Map the fields to those in the form\n",
        "answers <- list(\n",
        "  \"entry.1649154935\" = CHAPITRE_COURANT,\n",
        "  \"entry.1030536647\" = Prenom,\n",
        "  \"entry.869694598\" = Nom,\n",
        "  \"entry.1554909193\" = as.character(Diplome_actuel),\n",
        "  \"entry.563756531\" = as.character(Q2),\n",
        "  \"entry.1963779262\" = as.character(Q3),\n",
        "  \"entry.1918008284\" = commentaire\n",
        ")\n",
        "\n",
        "# Send the responses\n",
        "response <- POST(url = form_url, body = answers, encode = \"form\")\n",
        "\n",
        "# Check the submission status\n",
        "if (status_code(response) == 200) {\n",
        "  print(\"✅ Form submitted successfully!\")\n",
        "} else {\n",
        "  print(paste(\"❌ Submission failed:\", status_code(response)))\n",
        "}\n"
      ],
      "metadata": {
        "id": "XOvsv4sl9XUS",
        "collapsed": true,
        "cellView": "form"
      },
      "execution_count": null,
      "outputs": []
    }
  ]
}