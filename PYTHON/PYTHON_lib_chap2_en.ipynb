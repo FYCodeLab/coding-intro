{
  "nbformat": 4,
  "nbformat_minor": 0,
  "metadata": {
    "kernelspec": {
      "name": "python3",
      "display_name": "Python 3"
    },
    "language_info": {
      "name": "python",
      "version": "3.x"
    },
    "colab": {
      "provenance": [],
      "collapsed_sections": [
        "uBhJFXPwqC39"
      ],
      "include_colab_link": true
    }
  },
  "cells": [
    {
      "cell_type": "markdown",
      "metadata": {
        "id": "view-in-github",
        "colab_type": "text"
      },
      "source": [
        "<a href=\"https://colab.research.google.com/github/FYCodeLab/coding-intro/blob/main/PYTHON/PYTHON_lib_chap2_en.ipynb\" target=\"_parent\"><img src=\"https://colab.research.google.com/assets/colab-badge.svg\" alt=\"Open In Colab\"/></a>"
      ]
    },
    {
      "cell_type": "markdown",
      "metadata": {
        "id": "7GVZ-d6bqC30"
      },
      "source": [
        "![link text](https://github.com/FYCodeLab/coding-intro/blob/main/assets/INTRO-Banner-intro-python_en.png?raw=true)\n",
        "*A teaching module for those who want to know a little more—but not too much!*\n",
        "\n",
        "![link text](https://github.com/FYCodeLab/coding-intro/blob/main/assets/intro-banner-ch2-en2.png?raw=true)\n",
        "\n",
        "Now that you’ve dipped your toes into Python in hapter 1, let’s explore what really makes Python fun: **libraries**!\n",
        "\n",
        "### **A Little Background**\n",
        "\n",
        "A **library** (or **package**) is like a toolbox packed with ready‑to‑use functions that help you perform specific tasks. This way, you don’t have to reinvent the wheel every time you code. Python libraries are created by smart (and sometimes quirky) developers and published on the main official Python repository  [PyPI](https://pypi.org/), making them free and easy to use. With libraries at your disposal, even if you’re new to programming, you can do amazing things!"
      ]
    },
    {
      "cell_type": "markdown",
      "metadata": {
        "id": "LKjVoGF4qC32"
      },
      "source": [
        "### 👩‍💻 **Installing a Library**\n",
        "\n",
        "Installing a library in Python is even easier than installing an app on your phone — you just need to know the name of the library, and a single command does the trick! In a Colab notebook, you can install a package using the function called `!pip install`. For your first example, we’ll install the **`pyjokes`** library.\n",
        "\n",
        "📌*The command to install the pyjokes library is:*\n",
        "\n",
        "```python\n",
        "!pip install pyjokes\n",
        "```\n",
        "\n",
        "*Copy and run the code in the cell below. (Hint: It may take a few seconds.)*"
      ]
    },
    {
      "cell_type": "code",
      "metadata": {
        "id": "install_pyjokes"
      },
      "execution_count": null,
      "outputs": [],
      "source": [
        "# Tapez votre programme ci dessous\n",
        "\n",
        "\n",
        "\n",
        "\n",
        "\n",
        "\n",
        "# Testez le  en appuyant sur ►"
      ]
    },
    {
      "cell_type": "markdown",
      "metadata": {
        "id": "kX9FDTZwqC34"
      },
      "source": [
        "🎯*Now that **pyjokes** is installed, let’s put it to work.*\n",
        "\n",
        "The library has a single function: `pyjokes.get_joke()`, which returns a random programming joke.\n",
        "Before using a function, you have to import the library using the command `import`\n",
        "\n",
        "📌For example, try running this code:"
      ]
    },
    {
      "cell_type": "code",
      "metadata": {
        "id": "demo_pyjokes"
      },
      "execution_count": null,
      "outputs": [],
      "source": [
        "import pyjokes\n",
        "print(pyjokes.get_joke())"
      ]
    },
    {
      "cell_type": "markdown",
      "metadata": {
        "id": "S3B8He23qC35"
      },
      "source": [
        "🎯 *Run the cell above—if all goes well, a random joke should appear. Run it again for a new one... Handy, isn’t it?*"
      ]
    },
    {
      "cell_type": "markdown",
      "metadata": {
        "id": "jeqpCbW6qC35"
      },
      "source": [
        "### 👩‍💻 **Passing Arguments: An Example with the cowsay Library**\n",
        "\n",
        "Libraries (which can be also called packages)can be as sophisticated as they are fun. Let’s check out the **`cowsay`** library, which lets you make various animals speak. Remember how `print()` just prints plain text? With **`cowsay`**, your output gets an adorable animal twist!\n",
        "\n",
        "\n",
        "📌 *First, install the library cowsay (you only need to do this once):*\n",
        "\n",
        "\n",
        "\n"
      ]
    },
    {
      "cell_type": "code",
      "metadata": {
        "id": "install_cowsay"
      },
      "execution_count": null,
      "outputs": [],
      "source": [
        "!pip install cowsay"
      ]
    },
    {
      "cell_type": "markdown",
      "source": [
        "📌 *Then, try this example:*"
      ],
      "metadata": {
        "id": "FJWSDvN8vFzv"
      }
    },
    {
      "cell_type": "code",
      "metadata": {
        "id": "demo_cowsay"
      },
      "execution_count": null,
      "outputs": [],
      "source": [
        "# Lisez et ensuite testez le programme  en appuyant sur ►\n",
        "\n",
        "#import the modules from the library cowsay : they need to be placed in memory so you can use them! very easy\n",
        "import cowsay\n",
        "\n",
        "# Have the cow say \"Hello\". Try replacing 'cow' with 'tux', 'dragon', 'sheep', etc.! cowsay is the module  and cow is a function\n",
        "cowsay.cow(\"Hello\")\n"
      ]
    },
    {
      "cell_type": "markdown",
      "metadata": {
        "id": "qDATYthbqC37"
      },
      "source": [
        "🎯 *The creativity of library developers is truly boundless.*"
      ]
    },
    {
      "cell_type": "markdown",
      "metadata": {
        "id": "upp4vd5QqC37"
      },
      "source": [
        "### 👩‍💻 **Finally, a Useful Library: Biopython for Entrez**\n",
        "\n",
        "You now know how to install a library and load its functions. Next up is a very practical library—Biopython’s Entrez module—which allows you to query PubMed (and other databases) directly from your code.\n",
        "Note : **Biopython** is a useful but huge **library**. It is composed of **packages** (such as **Bio**), which themselves contain **modules** (such as **Entrez**), which themselves contain **functions** (such as `efetch()` )\n",
        "\n",
        "📌*First install Biopython with the command `!pip install`:*\n",
        "\n"
      ]
    },
    {
      "cell_type": "code",
      "metadata": {
        "id": "install_biopython"
      },
      "execution_count": null,
      "outputs": [],
      "source": [
        "!pip install biopython"
      ]
    },
    {
      "cell_type": "markdown",
      "source": [
        "📌 *Then, let’s import the package Bio and the module Entrez. Then fetch the abstract of a PubMed article (ID 23661087) using the efetch() function .*\n",
        "\n",
        "*Note: Always set your email when using Entrez so that NCBI knows who you are.*"
      ],
      "metadata": {
        "id": "ZD43jXfHvoDc"
      }
    },
    {
      "cell_type": "code",
      "metadata": {
        "id": "demo_biopython"
      },
      "execution_count": null,
      "outputs": [],
      "source": [
        "# Import the module Entrez which is in the package Bio (which is itself inside the library Biopython).\n",
        "from Bio import Entrez\n",
        "\n",
        "# Always set your email when using Entrez\n",
        "Entrez.email = \"your.email@example.com\"\n",
        "\n",
        "# Fetch the abstract of the PubMed article with ID 23661087. Beware! The abstract is a file, and the file is placed inside the abstract_file variable\n",
        "abstract_file = Entrez.efetch(db=\"pubmed\", id=\"23661087\", rettype=\"abstract\", retmode=\"text\")\n",
        "\n",
        "# Now we will use the read command to extract the text from the abstract_file and place the text in a new abstract_text variable\n",
        "abstract_text = abstract_file.read()\n",
        "print(abstract_text)"
      ]
    },
    {
      "cell_type": "markdown",
      "metadata": {
        "id": "3KoXi7bVqC38"
      },
      "source": [
        "🎯 *Biopython’s **Entrez** module has many cool applications: it can also download nucleotide sequences, gene names, and more!*"
      ]
    },
    {
      "cell_type": "markdown",
      "metadata": {
        "id": "otCQAAHQqC38"
      },
      "source": [
        "###![CHAPTER 2](https://github.com/FYCodeLab/coding-intro/blob/main/assets/intro-exercise-en.png?raw=true)\n",
        "\n",
        "### **Exercise Objective**\n",
        "In the following cell, create a small program that:\n",
        "\n",
        "*   Loads the libraries **Biopython (Entrez)** and **cowsay** (these libraries have already been installed above) using the appropriate import statements.\n",
        "*   Fetches and stores the abstract of the article with PubMed ID 34280074 in a variable called `my_abstract` (using Entrez.efetch()).\n",
        "*   Displays the abstract as if spoken by a little cat (using the cowsay function, e.g. `cowsay.cow()`).\n",
        "\n",
        "Have fun and let your inner geek (and cat) speak!"
      ]
    },
    {
      "cell_type": "code",
      "metadata": {
        "id": "exercise_code"
      },
      "execution_count": 5,
      "outputs": [],
      "source": [
        "# Write your program below:\n",
        "\n",
        "\n",
        "\n",
        "\n",
        "\n",
        "# Write your code here and then run the cell"
      ]
    },
    {
      "cell_type": "markdown",
      "metadata": {
        "id": "uBhJFXPwqC39"
      },
      "source": [
        "# Solution\n",
        "Click to reveal the solution."
      ]
    },
    {
      "cell_type": "code",
      "metadata": {
        "id": "solution_code"
      },
      "execution_count": null,
      "outputs": [],
      "source": [
        "# Here is one possible solution:\n",
        "\n",
        "# Import the libraries and modules useful for your program\n",
        "from Bio import Entrez\n",
        "import cowsay\n",
        "\n",
        "#Inform PubMed that you have an email\n",
        "Entrez.email = \"your.email@example.com\"\n",
        "\n",
        "# Download  the article abstract as a file and place the file in the variable abstract\n",
        "abstract = Entrez.efetch(db=\"pubmed\", id=\"34280074\", rettype=\"abstract\", retmode=\"text\")\n",
        "\n",
        "#Read the content of the file inside abstract, and place this text inside text_abstract\n",
        "text_abstract = abstract.read()\n",
        "\n",
        "#Have the cat say your abstract !\n",
        "cowsay.kitty(text_abstract)"
      ]
    },
    {
      "cell_type": "markdown",
      "metadata": {
        "id": "HHlz_d3LqC39"
      },
      "source": [
        "👏 Congratulations on making it this far! You can now move on tonext chapter\n",
        "\n",
        "*(Before switching chapters, please fill out the short survey below. Thank you!)*"
      ]
    },
    {
      "cell_type": "markdown",
      "metadata": {
        "id": "g6Y0dFYMqC39"
      },
      "source": [
        "#![CHAPTER 2](https://drive.usercontent.google.com/u/0/uc?id=1uihk7uq_UByPt1SH84RCrjbtwmtEkTV6&export=download)\n",
        "\n",
        "Please answer the short survey below. Type your answers in the red boxes then click Run ▶ to submit."
      ]
    },
    {
      "cell_type": "code",
      "metadata": {
        "id": "anonymous_survey",
        "cellView": "form"
      },
      "execution_count": null,
      "outputs": [],
      "source": [
        "# @title Anonymous Survey\n",
        "# @markdown **Short Survey on CHAPTER 2**\n",
        "# @markdown Fill in the information below and click Run ▶ to submit your responses.\n",
        "\n",
        "CHAPTER_CURRENT = \"python_CHAPTER_2_en\"\n",
        "first_name = \"Enter here\"  # @param {type:\"string\"}\n",
        "last_name = \"Enter here\"   # @param {type:\"string\"}\n",
        "current_degree = \"Professional/Graduate\"  # @param [\"Professional/Graduate\", \"Prepa Bac+1-2\", \"Engineering Bac+1-3\", \"Bachelor 1-3\", \"University L1-L3\", \"University M1-M2\", \"Doctoral Student\"]\n",
        "# @markdown **Did you understand what a library (package) is? [0 = Not at all | 10 = Perfect]**\n",
        "Q2 = 5  # @param {type:\"slider\", min:1, max:10, step:1}\n",
        "# @markdown **Do you remember the names of the 3 libraries mentioned as examples? [0 = No | 10 = Yes]**\n",
        "Q3 = 5  # @param {type:\"slider\", min:1, max:10, step:1}\n",
        "# @markdown **Any comments?**\n",
        "comments = \"Enter here\"  # @param {type:\"string\"}\n",
        "\n",
        "import requests\n",
        "\n",
        "form_url = \"https://docs.google.com/forms/u/0/d/e/1FAIpQLScdlddezflctE_VwnY2hIJIbn1xhlBMoGaMqVcyV8IvCpa8Vw/formResponse\"\n",
        "\n",
        "answers = {\n",
        "    \"entry.1649154935\": CHAPTER_CURRENT,\n",
        "    \"entry.1030536647\": first_name,\n",
        "    \"entry.869694598\": last_name,\n",
        "    \"entry.1554909193\": current_degree,\n",
        "    \"entry.563756531\": str(Q2),\n",
        "    \"entry.1963779262\": str(Q3),\n",
        "    \"entry.1918008284\": comments\n",
        "}\n",
        "\n",
        "response = requests.post(form_url, data=answers)\n",
        "\n",
        "if response.status_code == 200:\n",
        "    print(\"✅ Form submitted successfully!\")\n",
        "else:\n",
        "    print(\"❌ Submission failed:\", response.status_code)"
      ]
    }
  ]
}