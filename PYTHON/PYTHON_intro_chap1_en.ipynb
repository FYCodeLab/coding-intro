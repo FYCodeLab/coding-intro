{
  "nbformat": 4,
  "nbformat_minor": 0,
  "metadata": {
    "kernelspec": {
      "name": "python3",
      "display_name": "Python 3"
    },
    "language_info": {
      "name": "python"
    },
    "colab": {
      "provenance": [],
      "collapsed_sections": [
        "yiTetcxMdyeM"
      ],
      "include_colab_link": true
    }
  },
  "cells": [
    {
      "cell_type": "markdown",
      "metadata": {
        "id": "view-in-github",
        "colab_type": "text"
      },
      "source": [
        "<a href=\"https://colab.research.google.com/github/FYCodeLab/coding-intro/blob/main/PYTHON/PYTHON_intro_chap1_en.ipynb\" target=\"_parent\"><img src=\"https://colab.research.google.com/assets/colab-badge.svg\" alt=\"Open In Colab\"/></a>"
      ]
    },
    {
      "cell_type": "markdown",
      "metadata": {
        "id": "JtuzPtzBdyd9"
      },
      "source": [
        "![link text](https://github.com/FYCodeLab/coding-intro/blob/main/assets/INTRO-Banner-intro-python_en.png?raw=true)\n",
        "*A teaching module for those who want to know a bit more, but not too much*\n",
        "\n",
        "Python is a language widely used in research. It is particularly well-suited for mathematics, statistics, and data analysis because it is powerful, versatile, and easy to learn. Plus, it has a gentle learning curve.\n",
        "\n",
        "### **A Little History**\n",
        "\n",
        "Python was created by [Guido van Rossum](https://en.wikipedia.org/wiki/Guido_van_Rossum) and first released in 1991 as a language designed with readability in mind. Over the years, it has grown into one of the most popular programming languages in the world, embraced by both academia and industry.\n",
        "Python’s clear syntax and extensive libraries have made it a favorite for many types of projects.\n",
        "\n",
        "### **What to Do With Your Code?**\n",
        "\n",
        "If you want to write a document, you have many options, but you might prefer using a word processor like Microsoft Word. Similarly, if you want to code in Python, the simplest way is to use an Integrated Development Environment (IDE) like [Google Colab](https://colab.research.google.com/), which is free and runs in your browser.\n",
        "\n",
        "### **What Is Google Colab?**\n",
        "\n",
        "Google Colab is an online IDE that allows you to write and execute Python code in a notebook format. This means you can mix code with formatted text and visuals, making it ideal for learning and scientific exploration.\n",
        "\n",
        "*Note: Google Colab can also run other languages, but here we focus on Python.*\n",
        "\n",
        "![link text](https://github.com/FYCodeLab/coding-intro/blob/main/assets/INTRO-IDE-PYTHON-EN.jpg?raw=true)"
      ]
    },
    {
      "cell_type": "markdown",
      "metadata": {
        "id": "PNBHkZTzdyeC"
      },
      "source": [
        "### **How to Use Google Colab to Learn to Code?**\n",
        "\n",
        "It’s very simple: throughout this lesson, you will see **code cells** where you can type your Python code. In these cells, you can copy the provided examples or write your own code.\n",
        "\n",
        "1. A code cell is simply a text area where you write your code.\n",
        "2. To run the code, click the little **[►]** button on the left of the cell.\n",
        "3. Once your code is executed (this may take a few seconds), the output will appear below the cell.\n",
        "\n",
        "**Never hesitate to modify the code to see what happens—it’s the best way to learn!**\n",
        "\n",
        "![link text](https://github.com/FYCodeLab/coding-intro/blob/main/assets/intro-coding-windows.png?raw=true)"
      ]
    },
    {
      "cell_type": "markdown",
      "metadata": {
        "id": "bBlw4K9cdyeC"
      },
      "source": [
        "# ![CHAPTER 2](https://github.com/FYCodeLab/coding-intro/blob/main/assets/intro-banner-ch1-en2.png?raw=true)\n",
        "\n",
        "Here are some basic functions to get you started. This Google Colab notebook is interactive, so feel free to modify the examples to see the results.\n",
        "\n",
        "### 👩‍💻 **print()**\n",
        "\n",
        "The `print()` function displays whatever you want. It’s one of the simplest (and most useful) functions in Python.\n",
        "\n",
        "📌 *Example: This program prints the classic \"Hello, World!\" message*\n",
        "```python\n",
        "print(\"Hello, World!\")\n",
        "```\n",
        "\n",
        "Copy and paste the code above into a code cell below and click the [►] button.\n",
        "\n",
        "*NB: To run the code on this notebook, make sure you are signed in with your Google account.*"
      ]
    },
    {
      "cell_type": "code",
      "metadata": {
        "id": "FcoBmK11dyeD"
      },
      "execution_count": null,
      "outputs": [],
      "source": [
        "# This is a code cell. Code cells can contain comments (which start with #).\n",
        "# Copy and paste the code from the cell under here, then run this cell by clicking on  [►]  .\n",
        "\n",
        "\n",
        "\n",
        "\n",
        "\n",
        "\n",
        "# Type your code above and click on [►]"
      ]
    },
    {
      "cell_type": "markdown",
      "metadata": {
        "id": "7frjPB-6dyeF"
      },
      "source": [
        "🎯 *Normally, if you have followed the instructions, the text you placed inside the print() function should appear below when you click [►].*"
      ]
    },
    {
      "cell_type": "markdown",
      "metadata": {
        "id": "6d9j_y2gdyeG"
      },
      "source": [
        "### 👩‍💻 **Variables**\n",
        "\n",
        "In Python, the basic idea of programming is to store values in variables. Python uses the equal sign `=` to assign values inside variables.\n",
        "\n",
        "📌 *Example: In the code below, the result of the calculation `2 * 8` is stored in the variable `y` and then printed:*\n",
        "```python\n",
        "y = 2 * 8\n",
        "print(y)\n",
        "```\n",
        "\n",
        "Now it’s your turn: copy the code above into a code cell below and run it."
      ]
    },
    {
      "cell_type": "code",
      "metadata": {
        "id": "yyKX8DB4dyeG"
      },
      "execution_count": null,
      "outputs": [],
      "source": [
        "# Copy and paste the code from the cell under here, then run this cell by clicking on  [►]  .\n",
        "\n",
        "\n",
        "\n",
        "\n",
        "\n",
        "\n",
        "# Type your code above and click on [►]"
      ]
    },
    {
      "cell_type": "markdown",
      "metadata": {
        "id": "Cvltf2qFdyeH"
      },
      "source": [
        "### 👩‍💻 **Mathematical Calculations**\n",
        "\n",
        "Python can perform calculations just like a calculator. You can store the results of calculations in variables and display them using print().\n",
        "\n",
        "📌 *Example: The result of a calculation can be stored in a variable and then printed:*\n",
        "```python\n",
        "x = 2 * 8\n",
        "y = 7\n",
        "print(x + y)\n",
        "```\n",
        "\n",
        "Now it’s your turn: copy the example above into the code cell below and run it."
      ]
    },
    {
      "cell_type": "code",
      "metadata": {
        "id": "I1csQyhadyeH"
      },
      "execution_count": null,
      "outputs": [],
      "source": [
        "# Copy and paste the code from the cell under here, then run this cell by clicking on  [►]  .\n",
        "\n",
        "\n",
        "\n",
        "\n",
        "\n",
        "\n",
        "# Type your code above and click on [►]"
      ]
    },
    {
      "cell_type": "markdown",
      "metadata": {
        "id": "lgoElh5FdyeI"
      },
      "source": [
        "### 👩‍💻 **Types of Variables: Numbers, Text, and Lists**\n",
        "\n",
        "The simplest type of variable is a **number**:\n",
        "```python\n",
        "my_number = 27.3\n",
        "```\n",
        "\n",
        "A variable can also hold a **text** (also called a **string**), which must be enclosed in quotes:\n",
        "```python\n",
        "my_name = \"John\"\n",
        "```\n",
        "\n",
        "So now that you know that a variable can store a number or a text, her's something impprtant : a variable can also store a **list** (sometimes also called a **vector**). A list is what you think it is, a collection of values:\n",
        "\n",
        "```python\n",
        "lottery_numbers = [0, 1, 2, 8, 18, 76]\n",
        "favorite_fruits = [\"apple\", \"banana\", \"kiwi\"]\n",
        "```\n",
        "\n",
        "These are some of the most common types of variables in Python.\n",
        "# ![CHAPTER 2](https://github.com/FYCodeLab/coding-intro/blob/main/assets/intro-var-python-en.png?raw=true)"
      ]
    },
    {
      "cell_type": "markdown",
      "metadata": {
        "id": "_fHyWE79dyeI"
      },
      "source": [
        "### 👩‍💻 **print() is flexible!**\n",
        "\n",
        "In Python, the `print()` function is very versatile. It can display multiple items on the same line separated by commas:\n",
        "```python\n",
        "favourite_number = 10\n",
        "print(\"My favourite number is:\", favourite_number)\n",
        "```\n",
        "\n",
        "This prints everything on one line without extra formatting. Type it in the code cell below !"
      ]
    },
    {
      "cell_type": "code",
      "metadata": {
        "id": "XVsmxzAJdyeI"
      },
      "execution_count": null,
      "outputs": [],
      "source": [
        "# Copy and paste the code from the cell under here, then run this cell by clicking on  [►]  .\n",
        "\n",
        "\n",
        "\n",
        "\n",
        "\n",
        "\n",
        "# Type your code above and click on [►]"
      ]
    },
    {
      "cell_type": "markdown",
      "metadata": {
        "id": "x1dDy60jdyeJ"
      },
      "source": [
        "### 👩‍💻 **Asking users! The input() function**\n",
        "\n",
        "The `input()` function lets your program pause and wait for the user to type something. Whatever the user types is returned as a string.\n",
        "\n",
        "📌 *Example: Ask the user for their name and greet them:*\n",
        "```python\n",
        "name = input(\"What is your name? \")\n",
        "print(\"Hello\", name)\n",
        "```\n"
      ]
    },
    {
      "cell_type": "code",
      "metadata": {
        "id": "ixHSHXwQdyeJ"
      },
      "execution_count": null,
      "outputs": [],
      "source": [
        "# Copy and paste the code from the cell under here, then run this cell by clicking on  [►]  .\n",
        "\n",
        "\n",
        "\n",
        "\n",
        "\n",
        "\n",
        "# Type your code above and click on [►]"
      ]
    },
    {
      "cell_type": "markdown",
      "metadata": {
        "id": "MhzxluzjdyeJ"
      },
      "source": [
        "### 👩‍💻 **Conditional Statements: if ... else**\n",
        "\n",
        "Conditional statements let you execute code based on whether a condition is true or false.\n",
        "\n",
        "📌 *Example: Ask the user for a number and check if it is positive or negative:*\n",
        "\n",
        "\n"
      ]
    },
    {
      "cell_type": "code",
      "metadata": {
        "id": "RxZaoGZIdyeK"
      },
      "execution_count": null,
      "outputs": [],
      "source": [
        "# Run this cell by clicking on  [►]  .\n",
        "\n",
        "\n",
        "# This line displays the prompt \"Enter a number: \" to the user.\n",
        "# The input() function waits for the user to enter some text and press Enter.\n",
        "# The text entered by the user is then converted to a number using the float() function (A floating-point number (or float) is a numeric data type that can represent real numbers, including decimals, like 3.14)\n",
        "number = float(input(\"Enter a number: \"))\n",
        "\n",
        "# This conditional statement checks if the number is greater than zero.\n",
        "if number > 0:\n",
        "    # If the condition (number > 0) is true, this line prints \"The number is positive.\"\n",
        "    print(\"The number is positive.\")\n",
        "else:\n",
        "    # If the condition is false (i.e., the number is zero or negative), this line prints \"The number is negative or zero.\"\n",
        "    print(\"The number is negative or zero.\")\n",
        "\n",
        "\n",
        "\n",
        "# To run tis code click on [►]"
      ]
    },
    {
      "cell_type": "markdown",
      "metadata": {
        "id": "PLLm5OKcdyeK"
      },
      "source": [
        "### 👩‍💻 **The for Loop**\n",
        "\n",
        "The `for` loop lets you repeat a block of code a specific number of times. In Python, you can use the `range()` function to **iterate** over a sequence of numbers.\n",
        "\n",
        "📌 *Example: Print numbers from 1 to 5:*\n"
      ]
    },
    {
      "cell_type": "code",
      "metadata": {
        "id": "_97-pqEBdyeK"
      },
      "execution_count": null,
      "outputs": [],
      "source": [
        "# run this cell by clicking on  [►]\n",
        "\n",
        "for i in range(1, 6):\n",
        "    print(\"Number:\", i)\n",
        "\n",
        "\n",
        "# run this cell by clicking on  [►]"
      ]
    },
    {
      "cell_type": "markdown",
      "metadata": {
        "id": "CtLIdMQzdyeK"
      },
      "source": [
        "### 👩‍💻 **The while Loop**\n",
        "\n",
        "The `while` loop executes a block of code as long as a condition is true.\n",
        "\n",
        "📌 *Example: A simple guessing game where the user must guess the correct number between 1 and 10:*\n"
      ]
    },
    {
      "cell_type": "code",
      "metadata": {
        "id": "LwyO30GodyeK"
      },
      "execution_count": null,
      "outputs": [],
      "source": [
        "# run this cell by clicking on  [►]\n",
        "\n",
        "\n",
        "target = 8\n",
        "guess = 0\n",
        "while guess != target:\n",
        "    guess = int(input(\"Guess a number between 1 and 10: \"))\n",
        "print(\"🎉 Congratulations! The correct number was\", target)\n",
        "\n",
        "\n",
        "\n",
        "# run this cell by clicking on  [►]\n"
      ]
    },
    {
      "cell_type": "markdown",
      "metadata": {
        "id": "wu5uIfmbdyeK"
      },
      "source": [
        "### 👩‍💻 **Mathematical Functions**\n",
        "\n",
        "Python has many built-in mathematical functions and libraries. For example, you can use the `math` module for various calculations.\n",
        "\n",
        "📌 *Example:*\n",
        "```python\n",
        "import math\n",
        "print(\"Rounded to 2 decimals:\", round(10.45678, 2))\n",
        "print(\"Square root:\", math.sqrt(16))\n",
        "```\n",
        "\n",
        "You can also perform various operations on lists:\n",
        "```python\n",
        "import math\n",
        "import statistics\n",
        "\n",
        "x = [1, 2, 5, 8, 10]\n",
        "print(\"The list x:\", x)\n",
        "print(\"Sum:\", sum(x))\n",
        "print(\"Product:\", math.prod(x))\n",
        "print(\"Average:\", sum(x) / len(x))\n",
        "print(\"Median:\", statistics.median(x))\n",
        "print(\"Variance:\", statistics.variance(x))\n",
        "print(\"Standard Deviation:\", statistics.stdev(x))\n",
        "print(\"Minimum value:\", min(x))\n",
        "print(\"Maximum value:\", max(x))\n",
        "```\n"
      ]
    },
    {
      "cell_type": "code",
      "metadata": {
        "id": "FgvvJLWpdyeL"
      },
      "execution_count": null,
      "outputs": [],
      "source": [
        "# Run the mathematical functions codes above.\n",
        "# Copy and paste the code from the cell under here, then run this cell by clicking on  [►]  .\n",
        "\n",
        "\n",
        "\n",
        "\n",
        "\n",
        "\n",
        "# Type your code above and click on [►]"
      ]
    },
    {
      "cell_type": "markdown",
      "source": [
        "# ![CHAPTER 1](https://github.com/FYCodeLab/coding-intro/blob/main/assets/intro-exercise-en.png?raw=true)\n"
      ],
      "metadata": {
        "id": "hU_l1UIN05zy"
      }
    },
    {
      "cell_type": "markdown",
      "metadata": {
        "id": "nGI3WWafdyeL"
      },
      "source": [
        "### **Exercise: Calculate Your Age**\n",
        "\n",
        "Write a small program that:\n",
        "\n",
        "*   Asks the user for their birth year using the `input()` function (convert it to an integer).\n",
        "*   Stores the birth year in a variable `birth_year`.\n",
        "*   Prints \"I am going to calculate your age\".\n",
        "*   Calculates the user's age and stores it in the variable `age`.\n",
        "*   Displays \"Your age is:\" followed by the age.\n"
      ]
    },
    {
      "cell_type": "code",
      "metadata": {
        "id": "YfTDYdk_dyeL"
      },
      "execution_count": null,
      "outputs": [],
      "source": [
        "# Your turn! Write your program here and run the cell.\n",
        "\n",
        "\n"
      ]
    },
    {
      "cell_type": "markdown",
      "metadata": {
        "id": "yiTetcxMdyeM"
      },
      "source": [
        "### **Answer**\n",
        "\n",
        "Click Answer to view the response!\n",
        "\n"
      ]
    },
    {
      "cell_type": "code",
      "source": [
        "# Ask the user for their birth year and store it in the variable birth_year\n",
        "birth_year = int(input(\"Enter your birth year: \"))\n",
        "\n",
        "# Announce that we are going to calculate your age\n",
        "print(\"I am going to calculate your age\")\n",
        "\n",
        "# Calculate the age\n",
        "age = 2025 - birth_year\n",
        "\n",
        "# Display the result\n",
        "print(\"Your age is:\", age)"
      ],
      "metadata": {
        "id": "HqsB2BRuh4gO"
      },
      "execution_count": null,
      "outputs": []
    },
    {
      "cell_type": "markdown",
      "source": [
        "👏 Congratulations on reaching this point! You can now proceed to [Chapter 2]\n",
        "\n",
        "(Please fill out the short survey below first.)"
      ],
      "metadata": {
        "id": "euA679xSiEbI"
      }
    },
    {
      "cell_type": "markdown",
      "metadata": {
        "id": "L4tfFcTZdyeM"
      },
      "source": [
        "###![CHAPTER 2](https://github.com/FYCodeLab/coding-intro/blob/main/assets/intro-survey-en.png?raw=true)\n",
        "\n",
        "Please answer the short survey below. Your answers will not be public."
      ]
    },
    {
      "cell_type": "code",
      "metadata": {
        "collapsed": true,
        "cellView": "form",
        "id": "OKRG424QdyeM"
      },
      "execution_count": null,
      "outputs": [],
      "source": [
        "# @title  Survey\n",
        "# @markdown **Short Survey**\n",
        "# @markdown Please fill in the information below and click Run ▶ to submit your responses.\n",
        "\n",
        "import requests\n",
        "\n",
        "CHAPITRE_COURANT = \"python-CHAPITRE_1_en\"\n",
        "Prenom = \"\"  # @param {type:\"string\"}\n",
        "Nom = \"\"     # @param {type:\"string\"}\n",
        "Diplome_actuel = 'Prepa Bac+1-2'  # @param [\"Professional/Graduate\", \"Prepa Bac+1-2\", \"Engineering Bac+1-3\", \"Bachelor 1-3\", \"University L1-L3\", \"University M1-M2\", \"Doctoral Student\"]\n",
        "# @markdown **Do you like this notebook-style exercise ? [0 = Not at all | 10 = Perfect]**\n",
        "Q2 = 1  # @param {type:\"slider\", min:1, max:10, step:1}\n",
        "# @markdown **Do you remember the name of the function to repeat a section of code? [0 = No | 10 = Yes]**\n",
        "Q3 = 2  # @param {type:\"slider\", min:1, max:10, step:1}\n",
        "# @markdown **Any comments?**\n",
        "commentaire = \"\"  # @param {type:\"string\"}\n",
        "# @markdown ---\n",
        "# @markdown Click Run ▶ to submit your survey. Thank you!\n",
        "\n",
        "# URL of the Google Form\n",
        "form_url = \"https://docs.google.com/forms/u/0/d/e/1FAIpQLScdlddezflctE_VwnY2hIJIbn1xhlBMoGaMqVcyV8IvCpa8Vw/formResponse\"\n",
        "\n",
        "# Map the fields to the form entries\n",
        "answers = {\n",
        "    \"entry.1649154935\": CHAPITRE_COURANT,\n",
        "    \"entry.1030536647\": Prenom,\n",
        "    \"entry.869694598\": Nom,\n",
        "    \"entry.1554909193\": Diplome_actuel,\n",
        "    \"entry.563756531\": str(Q2),\n",
        "    \"entry.1963779262\": str(Q3),\n",
        "    \"entry.1918008284\": commentaire\n",
        "}\n",
        "\n",
        "response = requests.post(form_url, data=answers)\n",
        "\n",
        "if response.status_code == 200:\n",
        "    print(\"✅ Form submitted successfully!\")\n",
        "else:\n",
        "    print(\"❌ Submission failed:\", response.status_code)\n"
      ]
    }
  ]
}