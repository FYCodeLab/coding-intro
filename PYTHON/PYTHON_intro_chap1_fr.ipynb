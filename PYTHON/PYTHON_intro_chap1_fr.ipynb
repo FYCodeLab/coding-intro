{
  "nbformat": 4,
  "nbformat_minor": 0,
  "metadata": {
    "kernelspec": {
      "name": "python3",
      "display_name": "Python 3"
    },
    "language_info": {
      "name": "python"
    },
    "colab": {
      "provenance": [],
      "collapsed_sections": [
        "yiTetcxMdyeM"
      ],
      "include_colab_link": true
    }
  },
  "cells": [
    {
      "cell_type": "markdown",
      "metadata": {
        "id": "view-in-github",
        "colab_type": "text"
      },
      "source": [
        "<a href=\"https://colab.research.google.com/github/FYCodeLab/coding-intro/blob/main/PYTHON/PYTHON_intro_chap1_fr.ipynb\" target=\"_parent\"><img src=\"https://colab.research.google.com/assets/colab-badge.svg\" alt=\"Open In Colab\"/></a>"
      ]
    },
    {
      "cell_type": "markdown",
      "metadata": {
        "id": "JtuzPtzBdyd9"
      },
      "source": [
        "![BANNER](https://github.com/FYCodeLab/coding-intro/blob/main/assets/INTRO-Banner-intro-python_fr.png?raw=true)\n",
        "*Un module d'enseignement pour ceux qui veulent en savoir un peu plus, mais pas trop*\n",
        "\n",
        "Python est un langage largement utilisé en recherche. Il est particulièrement adapté aux mathématiques, à la statistique et à l'analyse de données, car il est puissant, polyvalent et facile à apprendre. Et puis, sa courbe d'apprentissage est plutôt douce.\n",
        "\n",
        "### **Un Peu d'Histoire**\n",
        "\n",
        "Python a été créé par [Guido van Rossum](https://en.wikipedia.org/wiki/Guido_van_Rossum) et a été lancé en 1991, avec pour objectif une lisibilité du code. Au fil des années, il est devenu l'un des langages de programmation les plus populaires au monde, adopté tant par le milieu académique que par l'industrie.\n",
        "La syntaxe claire de Python et ses bibliothèques étendues en font un favori pour de nombreux projets.\n",
        "\n",
        "### **Que Faire de Votre Code ?**\n",
        "\n",
        "Si vous souhaitez rédiger un document, vous avez de nombreuses options, mais vous préférerez peut-être utiliser un traitement de texte comme Microsoft Word. De même, si vous voulez coder en Python, une solution simple est d'installer sur votre ordinateur  un logiciel appelé IDE (environnement de développement intégré). Le plus connu des IDE pour Python s'appelle ANACONDA. ANACONDA vous permet d'écrire et d'exécuter votre code informatique sur votre propre ordinateur.  Vous pouvez aussi opter pour une solution en ligne telle que [Google Colab](https://colab.research.google.com/). Google Colab  est gratuit et fonctionne directement dans votre navigateur.\n",
        "\n",
        "### **Qu'est-ce que Google Colab ?**\n",
        "\n",
        "Google Colab est un IDE en ligne qui vous permet d'écrire et d'exécuter du code Python sous forme de notebook. Un notebook est une page spéciale (telle que celle que vous lisez actuellement) qui mêle code, texte formaté et images, ce qui le rend idéal pour l'apprentissage et l'exploration scientifique.\n",
        "\n",
        "*Note : Google Colab peut également exécuter d'autres langages, mais ici nous nous concentrons sur Python.*\n",
        "\n",
        "![texte du lien](https://github.com/FYCodeLab/coding-intro/blob/main/assets/INTRO-IDE-PYTHON-fr.jpg?raw=true)"
      ]
    },
    {
      "cell_type": "markdown",
      "metadata": {
        "id": "PNBHkZTzdyeC"
      },
      "source": [
        "### **Comment utiliser Google Colab pour apprendre à coder ?**\n",
        "\n",
        "C'est très simple : tout au long de cette leçon, vous verrez des **cellules de code** dans lesquelles vous pouvez taper votre code Python. Vous pouvez y copier les exemples fournis ou écrire votre propre code.\n",
        "\n",
        "1. Une cellule de code est simplement une zone de texte où vous écrivez votre code.\n",
        "2. Pour exécuter le code, cliquez sur le petit bouton **[►]** à gauche de la cellule.\n",
        "3. Une fois votre code exécuté (cela peut prendre quelques secondes), le résultat apparaîtra sous la cellule.\n",
        "\n",
        "**N'hésitez jamais à modifier le code pour voir ce qui se passe — c'est la meilleure façon d'apprendre !**\n",
        "\n",
        "![texte du lien](https://github.com/FYCodeLab/coding-intro/blob/main/assets/INTROcodewindowusage-FR.png?raw=true)"
      ]
    },
    {
      "cell_type": "markdown",
      "metadata": {
        "id": "bBlw4K9cdyeC"
      },
      "source": [
        "# ![CHAPITRE 2](https://github.com/FYCodeLab/coding-intro/blob/main/assets/INTRO-Banner-chap1-fonctions-FR.png?raw=true)\n",
        "\n",
        "Voici quelques fonctions de base pour bien démarrer. Ce notebook Google Colab est interactif, alors sentez-vous libre de modifier les exemples pour en voir les résultats.\n",
        "\n",
        "### 👩‍💻 **print()**\n",
        "\n",
        "La fonction `print()` affiche ce que vous voulez. C'est l'une des fonctions les plus simples (et les plus utiles) de Python.\n",
        "\n",
        "📌 *Exemple : Ce programme affiche le classique message \"Hello, World!\"*\n",
        "```python\n",
        "print(\"Hello, World!\")\n",
        "```\n",
        "\n",
        "Copiez-collez le code ci-dessus dans une cellule de code ci-dessous et cliquez sur le bouton [►].\n",
        "\n",
        "*NB : Pour exécuter le code dans ce notebook, assurez-vous d'être connecté à votre compte Google.*"
      ]
    },
    {
      "cell_type": "code",
      "metadata": {
        "id": "FcoBmK11dyeD"
      },
      "execution_count": null,
      "outputs": [],
      "source": [
        "# Ceci est une cellule de code. Les cellules de code peuvent contenir des commentaires (commençant par #).\n",
        "# Copiez-collez le code de la cellule ci-dessous, puis exécutez cette cellule en cliquant sur [►].\n",
        "\n",
        "\n",
        "\n",
        "\n",
        "\n",
        "\n",
        "# Tapez votre code ci-dessus et cliquez sur [►]"
      ]
    },
    {
      "cell_type": "markdown",
      "metadata": {
        "id": "7frjPB-6dyeF"
      },
      "source": [
        "🎯 *Normalement, si vous avez suivi les instructions, le texte que vous avez placé dans la fonction print() devrait s'afficher ci-dessous lorsque vous cliquez sur [►].*"
      ]
    },
    {
      "cell_type": "markdown",
      "metadata": {
        "id": "6d9j_y2gdyeG"
      },
      "source": [
        "### 👩‍💻 **Variables**\n",
        "\n",
        "En Python, l'idée de base de la programmation est de stocker des valeurs dans des variables. Python utilise le signe égal `=` pour l'affectation.\n",
        "\n",
        "📌 *Exemple : Dans le code ci-dessous, le résultat du calcul `2 * 8` est stocké dans la variable `y` puis affiché :*\n",
        "```python\n",
        "y = 2 * 8\n",
        "print(y)\n",
        "```\n",
        "\n",
        "À vous de jouer : copiez-collez le code ci-dessus dans une cellule de code ci-dessous et exécutez-le."
      ]
    },
    {
      "cell_type": "code",
      "metadata": {
        "id": "yyKX8DB4dyeG"
      },
      "execution_count": null,
      "outputs": [],
      "source": [
        "# Copiez-collez le code de la cellule ci-dessous, puis exécutez cette cellule en cliquant sur [►].\n",
        "\n",
        "\n",
        "\n",
        "\n",
        "\n",
        "\n",
        "# Tapez votre code ci-dessus et cliquez sur [►]"
      ]
    },
    {
      "cell_type": "markdown",
      "source": [
        "🎯 *La fonction print() affiche le contenu des parenthèses.*"
      ],
      "metadata": {
        "id": "IeaIFgD9csaY"
      }
    },
    {
      "cell_type": "markdown",
      "metadata": {
        "id": "Cvltf2qFdyeH"
      },
      "source": [
        "### 👩‍💻 **Calculs Mathématiques**\n",
        "\n",
        "Python peut effectuer des calculs comme une calculatrice. Vous pouvez stocker le résultat de calculs dans des variables et les afficher avec print().\n",
        "\n",
        "📌 *Exemple : Le résultat d'un calcul peut être stocké dans une variable puis affiché :*\n",
        "```python\n",
        "x = 2 * 8\n",
        "y = 7\n",
        "print(x + y)\n",
        "```\n",
        "\n",
        "Ou pour afficher du texte accompagné de nombres :\n",
        "```python\n",
        "favourite_number = 10\n",
        "print(\"Mon nombre préféré est :\", favourite_number)\n",
        "```\n",
        "\n",
        "À vous de jouer : copiez l'un des exemples ci-dessus dans une cellule de code ci-dessous et exécutez-le."
      ]
    },
    {
      "cell_type": "code",
      "metadata": {
        "id": "I1csQyhadyeH"
      },
      "execution_count": null,
      "outputs": [],
      "source": [
        "# Copiez-collez le code de la cellule ci-dessous, puis exécutez cette cellule en cliquant sur [►].\n",
        "\n",
        "\n",
        "\n",
        "\n",
        "\n",
        "\n",
        "# Tapez votre code ci-dessus et cliquez sur [►]"
      ]
    },
    {
      "cell_type": "markdown",
      "source": [
        "🎯 *La fonction print() affiche le contenu des parenthèses.*"
      ],
      "metadata": {
        "id": "wTiyJTPkdAf5"
      }
    },
    {
      "cell_type": "markdown",
      "metadata": {
        "id": "lgoElh5FdyeI"
      },
      "source": [
        "### 👩‍💻 **Types de Variables : Nombres, Textes et Listes**\n",
        "\n",
        "La variable la plus simple est un **nombre** :\n",
        "```python\n",
        "my_number = 7\n",
        "```\n",
        "\n",
        "Une variable peut également contenir un **texte** (aussi appelé **string**), qui doit être encadré par des guillemets :\n",
        "```python\n",
        "my_name = \"John\"\n",
        "```\n",
        "\n",
        "Maintenant que vous savez qu'une variable peut stocker un nombre ou un texte, voici quelque chose d'important : une variable peut aussi stocker une **liste** (parfois appelée **vecteur**). Une liste est, comme vous l'imaginez, une collection de valeurs :\n",
        "\n",
        "```python\n",
        "lottery_numbers = [0, 1, 2, 8, 18, 76]\n",
        "favorite_fruits = [\"apple\", \"banana\", \"kiwi\"]\n",
        "```\n",
        "\n",
        "Voici quelques-uns des types de variables les plus courants en Python."
      ]
    },
    {
      "cell_type": "markdown",
      "metadata": {
        "id": "_fHyWE79dyeI"
      },
      "source": [
        "### 👩‍💻 **print() est flexible !**\n",
        "\n",
        "En Python, la fonction `print()` est très polyvalente. Elle peut afficher plusieurs éléments sur la même ligne, séparés par des virgules :\n",
        "```python\n",
        "favourite_number = 10\n",
        "print(\"Mon nombre préféré est :\", favourite_number)\n",
        "```\n",
        "\n",
        "Cela affiche tout sur une seule ligne sans mise en forme supplémentaire."
      ]
    },
    {
      "cell_type": "code",
      "metadata": {
        "id": "XVsmxzAJdyeI"
      },
      "execution_count": null,
      "outputs": [],
      "source": [
        "# exécutez cette cellule en cliquant sur [►].\n",
        "\n",
        "favourite_number = 10\n",
        "print(\"Mon nombre préféré est :\", favourite_number)\n",
        "\n"
      ]
    },
    {
      "cell_type": "markdown",
      "source": [
        "🎯 *La fonction print() affiche le contenu des parenthèses, et peut afficher plusieurs variables grâce à l'utilisation de la virgule*"
      ],
      "metadata": {
        "id": "DCyUQuP8ddDY"
      }
    },
    {
      "cell_type": "markdown",
      "metadata": {
        "id": "x1dDy60jdyeJ"
      },
      "source": [
        "### 👩‍💻 **Faire interagir l'utilisateur ! La fonction input()**\n",
        "\n",
        "La fonction `input()` permet à votre programme de s'arrêter et d'attendre que l'utilisateur saisisse quelque chose. Ce que l'utilisateur saisit est renvoyé sous forme de chaîne de caractères.\n",
        "\n",
        "📌 *Exemple : Demandez à l'utilisateur son nom et saluez-le :*\n",
        "```python\n",
        "name = input(\"Comment vous appelez-vous ? \")\n",
        "print(\"Bonjour\", name)\n",
        "```\n"
      ]
    },
    {
      "cell_type": "code",
      "metadata": {
        "id": "ixHSHXwQdyeJ"
      },
      "execution_count": null,
      "outputs": [],
      "source": [
        "# Copiez-collez le code de la cellule ci-dessous, puis exécutez cette cellule en cliquant sur [►].\n",
        "\n",
        "\n",
        "\n",
        "\n",
        "\n",
        "\n",
        "# Tapez votre code ci-dessus et cliquez sur [►]"
      ]
    },
    {
      "cell_type": "markdown",
      "source": [
        "*Comme vous voyez, la fonction input permet à l'utilisateur d'entrer un texte ou un chiffre.*"
      ],
      "metadata": {
        "id": "C8qQFWgWcUdY"
      }
    },
    {
      "cell_type": "markdown",
      "metadata": {
        "id": "MhzxluzjdyeJ"
      },
      "source": [
        "### 👩‍💻 **Instructions conditionnelles : if ... else**\n",
        "\n",
        "Les instructions conditionnelles vous permettent d'exécuter du code en fonction d'une condition (vraie ou fausse).\n",
        "\n",
        "📌 *Exemple : Demandez à l'utilisateur un nombre et vérifiez s'il est positif ou négatif :*\n",
        "\n"
      ]
    },
    {
      "cell_type": "code",
      "metadata": {
        "id": "RxZaoGZIdyeK"
      },
      "execution_count": null,
      "outputs": [],
      "source": [
        "# Lisez le code ci dessous, comprenez-le et exécutez le   en cliquant sur [►].\n",
        "\n",
        "# La ligne suivante  ligne affiche l'invite \"Entrez un nombre : \" à l'utilisateur.\n",
        "# La fonction input() attend que l'utilisateur saisisse du texte et appuie sur Entrée.\n",
        "# Le texte saisi est ensuite converti en nombre avec la fonction float() (un float est un nombre réel, par exemple 3.14).\n",
        "number = float(input(\"Entrez un nombre : \"))\n",
        "\n",
        "# Cette instruction conditionnelle vérifie si le nombre est supérieur à zéro.\n",
        "if number > 0:\n",
        "    # Si la condition (number > 0) est vraie, cette ligne affiche \"Le nombre est positif.\"\n",
        "    print(\"Le nombre est positif.\")\n",
        "else:\n",
        "    # Sinon (si le nombre est zéro ou négatif), cette ligne affiche \"Le nombre est négatif ou nul.\"\n",
        "    print(\"Le nombre est négatif ou nul.\")\n",
        "\n",
        "\n",
        "\n",
        "\n",
        "# Pour exécuter le code cliquez sur [►]"
      ]
    },
    {
      "cell_type": "markdown",
      "metadata": {
        "id": "PLLm5OKcdyeK"
      },
      "source": [
        "### 👩‍💻 **La boucle for()**\n",
        "\n",
        "La boucle `for` vous permet de répéter un bloc de code un nombre précis de fois. En Python, vous pouvez utiliser la fonction `range()` pour itérer sur une séquence de nombres.\n",
        "\n",
        "📌 *Exemple : Affichez les nombres de 1 à 5 :*\n",
        "\n"
      ]
    },
    {
      "cell_type": "code",
      "metadata": {
        "id": "_97-pqEBdyeK"
      },
      "execution_count": null,
      "outputs": [],
      "source": [
        "# Exemple de la boucle for() : Exécutez cette cellule en cliquant sur [►].\n",
        "\n",
        "\n",
        "for i in range(1, 6):\n",
        "    print(\"Nombre :\", i)\n",
        "\n",
        "\n",
        "\n",
        "# Tapez votre code ci-dessus et cliquez sur [►]"
      ]
    },
    {
      "cell_type": "markdown",
      "metadata": {
        "id": "CtLIdMQzdyeK"
      },
      "source": [
        "### 👩‍💻 **La boucle while**\n",
        "\n",
        "La boucle `while` exécute un bloc de code tant qu'une condition est vraie.\n",
        "\n",
        "📌 *Exemple : Un jeu de devinette simple où l'utilisateur doit trouver le bon nombre entre 1 et 10 :*\n"
      ]
    },
    {
      "cell_type": "code",
      "metadata": {
        "id": "LwyO30GodyeK"
      },
      "execution_count": null,
      "outputs": [],
      "source": [
        "# Exemple de boucle while() : exécutez cette cellule en cliquant sur [►].\n",
        "\n",
        "target = 8\n",
        "guess = 0\n",
        "while guess != target:\n",
        "    guess = int(input(\"Devinez un nombre entre 1 et 10 : \"))\n",
        "print(\"🎉 Félicitations ! Le nombre correct était\", target)\n",
        "\n",
        "\n",
        "\n"
      ]
    },
    {
      "cell_type": "markdown",
      "metadata": {
        "id": "wu5uIfmbdyeK"
      },
      "source": [
        "### 👩‍💻 **Fonctions Mathématiques**\n",
        "\n",
        "Python possède de nombreuses fonctions mathématiques intégrées ainsi que des bibliothèques. Par exemple, vous pouvez utiliser le module `math` pour divers calculs.\n",
        "\n",
        "📌 *Exemple :*\n",
        "```python\n",
        "import math\n",
        "print(\"Arrondi à 2 décimales :\", round(10.45678, 2))\n",
        "print(\"Racine carrée :\", math.sqrt(16))\n",
        "```\n",
        "\n",
        "Vous pouvez également effectuer diverses opérations sur des listes :\n",
        "```python\n",
        "import math\n",
        "import statistics\n",
        "\n",
        "x = [1, 2, 5, 8, 10]\n",
        "print(\"La liste x :\", x)\n",
        "print(\"Somme :\", sum(x))\n",
        "print(\"Produit :\", math.prod(x))\n",
        "print(\"Moyenne :\", sum(x) / len(x))\n",
        "print(\"Médiane :\", statistics.median(x))\n",
        "print(\"Variance :\", statistics.variance(x))\n",
        "print(\"Écart-type :\", statistics.stdev(x))\n",
        "print(\"Valeur minimale :\", min(x))\n",
        "print(\"Valeur maximale :\", max(x))\n",
        "```\n"
      ]
    },
    {
      "cell_type": "code",
      "metadata": {
        "id": "FgvvJLWpdyeL"
      },
      "execution_count": null,
      "outputs": [],
      "source": [
        "# Copiez-collez le code des cellules, puis exécutez cette cellule en cliquant sur [►].\n",
        "\n",
        "\n",
        "\n",
        "\n",
        "\n",
        "\n",
        "# Tapez votre code ci-dessus et cliquez sur [►]"
      ]
    },
    {
      "cell_type": "markdown",
      "metadata": {
        "id": "nGI3WWafdyeL"
      },
      "source": [
        "![BANNER](https://github.com/FYCodeLab/coding-intro/blob/main/assets/INTRO-exercice-FR.png?raw=true)\n",
        "### **Challenge : Calculez Votre Âge**\n",
        "\n",
        "Écrivez un petit programme qui :\n",
        "\n",
        "* Demande à l'utilisateur son année de naissance en utilisant la fonction `input()` (convertissez-la en entier).\n",
        "* Stocke l'année de naissance dans une variable `birth_year`.\n",
        "* Affiche \"Je vais calculer votre âge\".\n",
        "* Calcule l'âge de l'utilisateur (en supposant que l'année en cours est 2025) et le stocke dans la variable `age`.\n",
        "* Affiche \"Votre âge est :\" suivi de l'âge.\n"
      ]
    },
    {
      "cell_type": "code",
      "metadata": {
        "id": "YfTDYdk_dyeL"
      },
      "execution_count": null,
      "outputs": [],
      "source": [
        "# À vous de jouer ! Écrivez votre programme ici et exécutez la cellule."
      ]
    },
    {
      "cell_type": "markdown",
      "metadata": {
        "id": "yiTetcxMdyeM"
      },
      "source": [
        "### **Réponse**\n",
        "\n",
        "Cliquez sur Réponse pour voir la solution !\n",
        "\n"
      ]
    },
    {
      "cell_type": "code",
      "metadata": {
        "id": "HqsB2BRuh4gO"
      },
      "execution_count": null,
      "outputs": [],
      "source": [
        "# Demandez à l'utilisateur son année de naissance et stockez-la dans la variable birth_year\n",
        "birth_year = int(input(\"Entrez votre année de naissance : \"))\n",
        "\n",
        "# Annoncez que nous allons calculer votre âge\n",
        "print(\"Je vais calculer votre âge\")\n",
        "\n",
        "# Calculez l'âge\n",
        "age = 2025 - birth_year\n",
        "\n",
        "# Affichez le résultat\n",
        "print(\"Votre âge est :\", age)"
      ]
    },
    {
      "cell_type": "markdown",
      "metadata": {
        "id": "euA679xSiEbI"
      },
      "source": [
        "👏 Félicitations d'être arrivé jusqu'ici ! Vous pouvez maintenant passer au [Chapitre 2]\n",
        "\n",
        "(Veuillez d'abord remplir le court sondage ci-dessous.)"
      ]
    },
    {
      "cell_type": "markdown",
      "metadata": {
        "id": "L4tfFcTZdyeM"
      },
      "source": [
        "###![CHAPITRE 2](https://github.com/FYCodeLab/coding-intro/blob/main/assets/INTRO-Banner-Sondage.png?raw=true)\n",
        "\n",
        "\n",
        "\n",
        "Veuillez répondre au court sondage ci-dessous. Vos réponses resteront anonymes."
      ]
    },
    {
      "cell_type": "code",
      "metadata": {
        "collapsed": true,
        "cellView": "form",
        "id": "OKRG424QdyeM"
      },
      "execution_count": null,
      "outputs": [],
      "source": [
        "# @title Sondage\n",
        "# @markdown **Court sondage**\n",
        "# @markdown Veuillez remplir les informations ci-dessous et cliquer sur Run ▶ pour soumettre vos réponses.\n",
        "\n",
        "import requests\n",
        "\n",
        "CHAPITRE_COURANT = \"PYTHON_CHAPITRE1_fr\"\n",
        "Prenom = \"\"  # @param {type:\"string\"}\n",
        "Nom = \"\"     # @param {type:\"string\"}\n",
        "Diplome_actuel = 'Prepa Bac+1-2'  # @param [\"Professional/Graduate\", \"Prepa Bac+1-2\", \"Engineering Bac+1-3\", \"Bachelor 1-3\", \"University L1-L3\", \"University M1-M2\", \"Doctoral Student\"]\n",
        "# @markdown **Avez-vous compris ce qu'est une librairie (package) ? [0 = Pas du tout | 10 = Parfait]**\n",
        "Q2 = 1  # @param {type:\"slider\", min:1, max:10, step:1}\n",
        "# @markdown **Vous souvenez-vous des noms des 3 librairies données en exemple ? [0 = Non | 10 = Oui]**\n",
        "Q3 = 2  # @param {type:\"slider\", min:1, max:10, step:1}\n",
        "# @markdown **Des commentaires ?**\n",
        "commentaire = \"\"  # @param {type:\"string\"}\n",
        "# @markdown ---\n",
        "# @markdown Cliquez sur Run ▶ pour soumettre votre sondage. Merci !\n",
        "\n",
        "# URL du formulaire Google\n",
        "form_url = \"https://docs.google.com/forms/u/0/d/e/1FAIpQLScdlddezflctE_VwnY2hIJIbn1xhlBMoGaMqVcyV8IvCpa8Vw/formResponse\"\n",
        "\n",
        "# Associer les champs aux entrées du formulaire\n",
        "answers = {\n",
        "    \"entry.1649154935\": CHAPITRE_COURANT,\n",
        "    \"entry.1030536647\": Prenom,\n",
        "    \"entry.869694598\": Nom,\n",
        "    \"entry.1554909193\": Diplome_actuel,\n",
        "    \"entry.563756531\": str(Q2),\n",
        "    \"entry.1963779262\": str(Q3),\n",
        "    \"entry.1918008284\": commentaire\n",
        "}\n",
        "\n",
        "response = requests.post(form_url, data=answers)\n",
        "\n",
        "if response.status_code == 200:\n",
        "    print(\"✅ Formulaire soumis avec succès !\")\n",
        "else:\n",
        "    print(\"❌ Échec de la soumission :\", response.status_code)\n"
      ]
    }
  ]
}