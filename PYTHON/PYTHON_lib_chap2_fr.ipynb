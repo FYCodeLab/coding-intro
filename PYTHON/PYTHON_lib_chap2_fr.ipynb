{
  "nbformat": 4,
  "nbformat_minor": 0,
  "metadata": {
    "kernelspec": {
      "name": "python3",
      "display_name": "Python 3"
    },
    "language_info": {
      "name": "python",
      "version": "3.x"
    },
    "colab": {
      "provenance": [],
      "collapsed_sections": [
        "uBhJFXPwqC39"
      ],
      "include_colab_link": true
    }
  },
  "cells": [
    {
      "cell_type": "markdown",
      "metadata": {
        "id": "view-in-github",
        "colab_type": "text"
      },
      "source": [
        "<a href=\"https://colab.research.google.com/github/FYCodeLab/coding-intro/blob/main/PYTHON/PYTHON_lib_chap2_fr.ipynb\" target=\"_parent\"><img src=\"https://colab.research.google.com/assets/colab-badge.svg\" alt=\"Open In Colab\"/></a>"
      ]
    },
    {
      "cell_type": "markdown",
      "metadata": {
        "id": "7GVZ-d6bqC30"
      },
      "source": [
        "![texte du lien](https://github.com/FYCodeLab/coding-intro/blob/main/assets/INTRO-Banner-intro-python_fr.png?raw=true)\n",
        "*Un module d'enseignement pour ceux qui veulent en savoir un peu plus — mais pas trop !*\n",
        "\n",
        "![texte du lien](https://github.com/FYCodeLab/coding-intro/blob/main/assets/INTRO-Banner-chap2-librairies-FR.png?raw=true)\n",
        "\n",
        "Maintenant que vous avez trempé vos orteils dans Python, explorons ce qui rend Python vraiment amusant : les bibliothèques !\n",
        "\n",
        "### **Un Peu de Contexte**\n",
        "\n",
        "Une **librairie** (ou **package**) est comme une boîte à outils remplie de fonctions prêtes à l'emploi qui vous aident à réaliser des tâches spécifiques. Ainsi, vous n'aurez pas à réinventer la roue à chaque fois que vous codez. Les librairies Python sont créées par des développeurs malins (et parfois un peu excentriques) et publiées sur le dépôt officiel [PyPI](https://pypi.org/), ce qui les rend gratuites et faciles à utiliser. Avec ces librairies à votre disposition, même si vous débutez en programmation, vous pouvez accomplir des choses incroyables !"
      ]
    },
    {
      "cell_type": "markdown",
      "metadata": {
        "id": "LKjVoGF4qC32"
      },
      "source": [
        "### 👩‍💻 **Installer une librairie**\n",
        "\n",
        "Installer une librairie en Python est encore plus simple que d'installer une appli sur votre téléphone — il vous suffit de connaître le nom de la librairie, et une seule commande fait l'affaire ! En Python, vous pouvez installer une librairie en utilisant la commande `!pip install`. Pour votre premier exemple, nous allons installer une librairie très simple appelée **`pyjokes`**.\n",
        "\n",
        "La commande est :\n",
        "\n",
        "```python\n",
        "!pip install pyjokes\n",
        "```\n",
        "\n",
        "📌*Copiez et exécutez le code dans la cellule ci-dessous. (cela peut prendre quelques secondes.)*"
      ]
    },
    {
      "cell_type": "code",
      "metadata": {
        "id": "install_pyjokes"
      },
      "execution_count": null,
      "outputs": [],
      "source": [
        "# Installez la librairie pyjokes en écrivant le code ci dessous\n",
        "\n",
        "\n",
        "\n",
        "\n",
        "\n",
        "\n",
        "# installez-le en appuyant sur ►"
      ]
    },
    {
      "cell_type": "markdown",
      "source": [
        "🎯*Une fois installée, la librairie persiste dans le notebook, plus besoin de la re-installer !*"
      ],
      "metadata": {
        "id": "SrFKL8cL2IcO"
      }
    },
    {
      "cell_type": "markdown",
      "metadata": {
        "id": "kX9FDTZwqC34"
      },
      "source": [
        "Maintenant que la librairie **pyjokes** est installée (vous voyez, c'est simple), utilisons-la. La librairie **pyjokes** ne contient qu'une seule fonction appelée getjoke().\n",
        "\n",
        ">**Librairie** : `pyjokes` \\\n",
        "**Fonction** : `get_joke()`\n",
        "\n",
        "En python, une **fonction** contenue dans une **librairie** y est attachée avec un point **.**  : `pyjokes.get_joke()`.\\\n",
        "La fonction `get_joke` a une grande utilité, jugez-en vous même :  elle  renvoie une histoire drôle.\n",
        "\n",
        "Pensez juste, à chaque fois que vous utilizerez une nouvelle librairie, de l'**importer** au début du programme. En effet, il ne suffit pas juste d'**installer** la librairie, il faut aussi penser à l'**importer**. L'importation se fait avec la fonction `import()`. Vous allez voir, c'est très simple.\n",
        "\n",
        "📌*Par exemple, regardez attentivement le code suivant, puis essayez de l'exécuter :*"
      ]
    },
    {
      "cell_type": "code",
      "metadata": {
        "id": "demo_pyjokes"
      },
      "execution_count": null,
      "outputs": [],
      "source": [
        "#1. Première étape: importer la librairie pyjokes que vous avez installé il y a cinq minutes (souvenez-vous)\n",
        " import pyjokes\n",
        "\n",
        " #2. Seconde étape: utiliser la fonction get.joke, et afficher le résultat de celle-ci avec print()\n",
        "print(pyjokes.get_joke())"
      ]
    },
    {
      "cell_type": "markdown",
      "metadata": {
        "id": "S3B8He23qC35"
      },
      "source": [
        "🎯 *Voyez que la fonction pyjokes.get_joke() est imbriquée dans la fonction print(). Exécutez la cellule ci-dessus — si tout se passe bien, une blague aléatoire devrait apparaître. Relancez-la pour en obtenir une nouvelle... Pratique, non ?*"
      ]
    },
    {
      "cell_type": "markdown",
      "metadata": {
        "id": "jeqpCbW6qC35"
      },
      "source": [
        "### 👩‍💻 **Passer des Arguments : Un Exemple avec la librairie cowsay**\n",
        "\n",
        "Les librairies (que l'on appelle aussi packages) peuvent être aussi sophistiquées qu'amusantes. Découvrons la librairie **`cowsay`**, qui vous permet de faire parler divers animaux. Vous vous souvenez de comment `print()` se contente d'afficher du texte banal ? Avec **`cowsay`**, votre affichage prend une autre tournure !\n",
        "\n",
        "Comme pour toute librairie, il faut l'installer, avec la commande `!pip install`.\n",
        "La librairie cowsay a plusieurs fonctions : cow, dragon, sheep ....\n",
        "La librairie cowsay vous permet de passer des arguments entre parenthèses. En l'occurence: Vous pouvez passer un argument texte pour être affiché.\n",
        ">**Librairie** : `cowsay` \\\n",
        "**Fonctions** : `cow()`, `dragon()`, `pig()` ...\n",
        "\n",
        "Essayons !\n",
        "\n",
        "📌 *Installons la librairie cowsay :*"
      ]
    },
    {
      "cell_type": "code",
      "metadata": {
        "id": "install_cowsay"
      },
      "execution_count": null,
      "outputs": [],
      "source": [
        "#Première étape : installation de la librairie cowsay une bonne fois pour toute\n",
        "!pip install cowsay\n"
      ]
    },
    {
      "cell_type": "markdown",
      "source": [
        "Puis, lisez attentivement le programme suivant avant de le lancer à son tour"
      ],
      "metadata": {
        "id": "TIlIct53hnA2"
      }
    },
    {
      "cell_type": "code",
      "metadata": {
        "id": "demo_cowsay"
      },
      "execution_count": null,
      "outputs": [],
      "source": [
        "# Lancez le programme en appuyant sur ►\n",
        "\n",
        "# Importer la librairie cowsay : elle doit en effet être chargée en mémoire pour que vous puissiez l'utiliser ! Très simple.\n",
        "import cowsay\n",
        "\n",
        "# Faites en sorte que la vache dise \"Hello\" en utilisant la fonction cow() et l'argument \"meuh\".\n",
        "#Essayez ensuite de remplacer la fonction 'cow' par la fonction 'tux', 'dragon', 'pig', etc. !\n",
        "cowsay.cow(\"meuh\")\n"
      ]
    },
    {
      "cell_type": "markdown",
      "metadata": {
        "id": "qDATYthbqC37"
      },
      "source": [
        "🎯 *N'est-ce pas incroyable ? La créativité des développeurs de bibliothèques est vraiment sans limite !*"
      ]
    },
    {
      "cell_type": "markdown",
      "metadata": {
        "id": "upp4vd5QqC37"
      },
      "source": [
        "### 👩‍💻 **Pour terminer, un exemple de librairie utile : BioPython **\n",
        "\n",
        "Vous savez désormais comment installer une librairie et charger ses fonctions. Voici maintenant une librairie très pratique : la librairie BioPython.\n",
        "\n",
        "**BioPython** est une très grosse librairie : elle est  composée de packages (nous utiliserons le package **Bio**), qui contiennent plusieurs modules (nous utiliserons le module **Entrez**, qui contienntn plusieurs fonctions (nous utiliserons **`efetch()`**.\n",
        "C'est une poupée russe.\n",
        "\n",
        "Le module **Entrez** que je vous propose d'utiliser  permet d'interroger la base de données PubMed que vous connaissez bien directement depuis votre code, sans devoir aller sur le site web.\n",
        "\n",
        ">**Librairie** : `BioPython` \\\n",
        "**Package** : Bio\\\n",
        "**Module** : Entrez\\\n",
        "**Fonction** : `efetch()`\\\n",
        "*NB: il existe beaucoup d'autres fonctions dans la librairie BioPython, demandez donc à ChatGPT.*\n",
        "\n",
        "📌 *Tout d'abord installons **Biopython** avec la commande `!pip install` :*\n",
        "\n"
      ]
    },
    {
      "cell_type": "code",
      "metadata": {
        "id": "install_biopython"
      },
      "execution_count": null,
      "outputs": [],
      "source": [
        "# C'est toujours la même chose: pour installer une librairie il suffit d'utiliser la commande !pip install\n",
        "!pip install biopython\n",
        "\n",
        "#Pour lancer l'installation' cliquer sur le bouton ►"
      ]
    },
    {
      "cell_type": "markdown",
      "source": [
        "📌 *Ensuite, récupérons l'abstract d'un article PubMed dont l'ID est (ID 23661087) en utilisant le module Entrez.\\\n",
        "Remarque : pensez à déclarer une adresse e-mail lorsque vous utilisez Entrez, afin que le NCBI sache qui utilise ses services.*"
      ],
      "metadata": {
        "id": "NGiPaIcNlqS9"
      }
    },
    {
      "cell_type": "code",
      "metadata": {
        "id": "demo_biopython"
      },
      "execution_count": null,
      "outputs": [],
      "source": [
        "# Lisez et comprenez le programme suivant. Pour le lancer cliquer sur le bouton ►.\n",
        "\n",
        "# La librairie Biopython est tellement grade qu'elle est composée de Packages (par exemple Bio)\n",
        "# qui contiennent eux-mêmes des Modules (par exemple Entrez)\n",
        "# qui contiennent eux-mêmes des fonctions (par exemple efetch())\n",
        "\n",
        "# Pour importer le module Entrez de biopython il faut utiliser la commande suivante:\n",
        "from Bio import Entrez\n",
        "\n",
        "# N'oubliez jamais de définir votre adresse e-mail lorsque vous utilisez Entrez\n",
        "Entrez.email = \"monemail@email.com\"\n",
        "\n",
        "# Récupérez le fichier de l'abstract de l'article PubMed dont l'ID est 23661087\n",
        "fichier = Entrez.efetch(db=\"pubmed\", id=\"23661087\", rettype=\"abstract\", retmode=\"text\")\n",
        "\n",
        "# Petite subtilité : la variable fichier est (normal...) un fichier, pas un texte!\n",
        "# Il faut extraire le texte du fichier en utilisant la fonction read() de Python\n",
        "abstract = fichier.read()\n",
        "print(abstract)\n"
      ]
    },
    {
      "cell_type": "markdown",
      "metadata": {
        "id": "3KoXi7bVqC38"
      },
      "source": [
        "🎯*Comme vous voyez, le module Entrez de BioPython a téléchargé l'abstract et le nom de l'article et vous l'affiche comme demandé.  \n",
        " Biopython a de nombreuses fonctions intéressantes : il peut également télécharger des séquences nucléotidiques, des noms de gènes, et bien plus encore !*"
      ]
    },
    {
      "cell_type": "markdown",
      "metadata": {
        "id": "otCQAAHQqC38"
      },
      "source": [
        "###![CHAPITRE 2](https://drive.usercontent.google.com/u/0/uc?id=1xmZ5Y-fDJd2QSaUqDqJzJiwEHo3u__8N&export=download)\n",
        "\n",
        "### **Votre challenge**\n",
        "Dans la cellule suivante, créez un petit programme qui :\n",
        "\n",
        "* Importe les bibliothèques **Biopython (Entrez)** et **cowsay** (ces bibliothèques ont déjà été installées ci-dessus) en utilisant les instructions d'importation appropriées.\n",
        "* Récupère et stocke l'abstract de l'article dont l'ID PubMed est 34280074 dans une variable appelée `mon_abstract` (en utilisant Entrez.efetch()).\n",
        "* Affiche l'abstract comme s'il était prononcé par un petit chat (en utilisant la fonction `kitty()` de **cowsay**).\n"
      ]
    },
    {
      "cell_type": "code",
      "metadata": {
        "id": "exercise_code"
      },
      "execution_count": null,
      "outputs": [],
      "source": [
        "# Écrivez votre programme ci-dessous :\n",
        "\n",
        "\n",
        "\n",
        "# Écrivez votre code ici puis exécutez la cellule en cliquant sur ►"
      ]
    },
    {
      "cell_type": "markdown",
      "metadata": {
        "id": "uBhJFXPwqC39"
      },
      "source": [
        "# Solution\n",
        "Cliquez ci-dessus pour révéler la solution."
      ]
    },
    {
      "cell_type": "code",
      "metadata": {
        "id": "solution_code"
      },
      "execution_count": null,
      "outputs": [],
      "source": [
        "# Voici une solution possible :\n",
        "\n",
        "# Tout d'abord à partir de la librairie géante biopython, importer le package Bio et le module Entrez\n",
        "from Bio import Entrez\n",
        "\n",
        "#Ensuite importer la librairie cowsay\n",
        "import cowsay\n",
        "\n",
        "# Définissez un email dans la variable Entrez.email, sinon PubMed ne vous laissera pas passer!\n",
        "Entrez.email = \"your.email@example.com\"\n",
        "\n",
        "fichier = Entrez.efetch(db=\"pubmed\", id=\"34280074\", rettype=\"abstract\", retmode=\"text\")\n",
        "mon_abstract = fichier.read()\n",
        "\n",
        "cowsay.kitty(mon_abstract)"
      ]
    },
    {
      "cell_type": "markdown",
      "metadata": {
        "id": "HHlz_d3LqC39"
      },
      "source": [
        "👏 Félicitations d'être arrivé jusqu'ici ! Vous pouvez maintenant passer au [Chapitre 3](https://github.com/FYCodeLab/coding-intro)\n",
        "\n",
        "*(Avant de changer de chapitre, veuillez remplir le court sondage ci-dessous. Merci !)*"
      ]
    },
    {
      "cell_type": "markdown",
      "metadata": {
        "id": "g6Y0dFYMqC39"
      },
      "source": [
        "#![CHAPITRE 2](https://drive.usercontent.google.com/u/0/uc?id=1uihk7uq_UByPt1SH84RCrjbtwmtEkTV6&export=download)\n",
        "\n",
        "Veuillez répondre au court sondage ci-dessous. Vos réponses resteront anonymes. Tapez vos réponses  puis cliquez sur  ▶ pour soumettre."
      ]
    },
    {
      "cell_type": "code",
      "metadata": {
        "id": "anonymous_survey",
        "cellView": "form"
      },
      "execution_count": null,
      "outputs": [],
      "source": [
        "# @title Sondage\n",
        "# @markdown **Court Sondage sur CHAPITRE 2**\\\n",
        "# @markdown Veuillez remplir les informations ci-dessous et cliquer sur Run ▶ pour soumettre vos réponses.\n",
        "\n",
        "CHAPTER_CURRENT = \"python-CHAPitre2-fr\"\n",
        "first_name = \"Tapez ici\"  # @param {type:\"string\"}\n",
        "last_name = \"Tapez ici\"   # @param {type:\"string\"}\n",
        "current_degree = \"Professional/Graduate\"  # @param [\"Professional/Graduate\", \"Prepa Bac+1-2\", \"Engineering Bac+1-3\", \"Bachelor 1-3\", \"University L1-L3\", \"University M1-M2\", \"Doctoral Student\"]\n",
        "# @markdown **Avez-vous compris ce qu'est une librairie (package) ? [0 = Pas du tout | 10 = Parfait]**\n",
        "Q2 = 5  # @param {type:\"slider\", min:1, max:10, step:1}\n",
        "# @markdown **Vous souvenez-vous des noms des 3 librairies mentionnées en exemple ? [0 = Non | 10 = Oui]**\n",
        "Q3 = 5  # @param {type:\"slider\", min:1, max:10, step:1}\n",
        "# @markdown **Des commentaires ?**\n",
        "comments = \"Tapez ici\"  # @param {type:\"string\"}\n",
        "\n",
        "import requests\n",
        "\n",
        "form_url = \"https://docs.google.com/forms/u/0/d/e/1FAIpQLScdlddezflctE_VwnY2hIJIbn1xhlBMoGaMqVcyV8IvCpa8Vw/formResponse\"\n",
        "\n",
        "answers = {\n",
        "    \"entry.1649154935\": CHAPTER_CURRENT,\n",
        "    \"entry.1030536647\": first_name,\n",
        "    \"entry.869694598\": last_name,\n",
        "    \"entry.1554909193\": current_degree,\n",
        "    \"entry.563756531\": str(Q2),\n",
        "    \"entry.1963779262\": str(Q3),\n",
        "    \"entry.1918008284\": comments\n",
        "}\n",
        "\n",
        "response = requests.post(form_url, data=answers)\n",
        "\n",
        "if response.status_code == 200:\n",
        "    print(\"✅ Formulaire soumis avec succès !\")\n",
        "else:\n",
        "    print(\"❌ Échec de la soumission :\", response.status_code)"
      ]
    }
  ]
}